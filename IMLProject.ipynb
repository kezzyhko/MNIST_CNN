{
  "nbformat": 4,
  "nbformat_minor": 0,
  "metadata": {
    "colab": {
      "name": "IMLProject",
      "provenance": [],
      "collapsed_sections": []
    },
    "kernelspec": {
      "name": "python3",
      "display_name": "Python 3"
    }
  },
  "cells": [
    {
      "cell_type": "markdown",
      "metadata": {
        "id": "lohPUbbI2eUp",
        "colab_type": "text"
      },
      "source": [
        "# Preparing\n",
        "Run once when disconnected"
      ]
    },
    {
      "cell_type": "code",
      "metadata": {
        "id": "aBg1WuyjgG9R",
        "colab_type": "code",
        "colab": {}
      },
      "source": [
        "# imports\n",
        "import numpy as np\n",
        "import pandas as pd\n",
        "from tensorflow.keras.models import Sequential\n",
        "from tensorflow.keras.layers import Dense, Dropout, Flatten, Conv2D, MaxPooling2D, GaussianNoise\n",
        "from tensorflow.keras.metrics import Recall, Precision\n",
        "from tensorflow.keras.preprocessing.image import ImageDataGenerator\n",
        "import tensorflow as tf\n",
        "import zipfile\n",
        "from sklearn.metrics import f1_score\n",
        "import os\n",
        "from google.colab import files"
      ],
      "execution_count": 19,
      "outputs": []
    },
    {
      "cell_type": "code",
      "metadata": {
        "id": "DVkWTWOngbQJ",
        "colab_type": "code",
        "colab": {}
      },
      "source": [
        "# download the dataset\n",
        "if (not os.path.isfile('x.npy')):\n",
        "    !wget -q https://gist.github.com/kezzyhko/74136f15acb0ac57e64a761176776ab0/raw/x.npy\n",
        "if (not os.path.isfile('y.npy')):\n",
        "    !wget -q https://gist.github.com/kezzyhko/74136f15acb0ac57e64a761176776ab0/raw/y.npy"
      ],
      "execution_count": 20,
      "outputs": []
    },
    {
      "cell_type": "code",
      "metadata": {
        "id": "sYjwZxnEiHQo",
        "colab_type": "code",
        "colab": {
          "base_uri": "https://localhost:8080/",
          "height": 50
        },
        "outputId": "295da95d-22a5-48f3-e728-bf84bab154b3"
      },
      "source": [
        "# load the dataset\n",
        "\n",
        "x = np.load('x.npy')\n",
        "y = np.load('y.npy')\n",
        "\n",
        "print(x.shape)\n",
        "print(y.shape)"
      ],
      "execution_count": 21,
      "outputs": [
        {
          "output_type": "stream",
          "text": [
            "(50000, 28, 28, 1)\n",
            "(50000,)\n"
          ],
          "name": "stdout"
        }
      ]
    },
    {
      "cell_type": "code",
      "metadata": {
        "id": "ZHgt92BxY4lc",
        "colab_type": "code",
        "colab": {
          "base_uri": "https://localhost:8080/",
          "height": 84
        },
        "outputId": "34cf8922-84f9-4480-e16d-2eaf5aa01e48"
      },
      "source": [
        "# load mnist (for evaluation later)\n",
        "(mnist_X_train, mnist_y_train), (mnist_X_test, mnist_y_test) = tf.keras.datasets.mnist.load_data()\n",
        "mnist_X_train = mnist_X_train.reshape((60000, 28, 28, 1))\n",
        "mnist_X_test = mnist_X_test.reshape((10000, 28, 28, 1))\n",
        "print(mnist_X_train.shape)\n",
        "print(mnist_y_train.shape)\n",
        "print(mnist_X_test.shape)\n",
        "print(mnist_y_test.shape)"
      ],
      "execution_count": 22,
      "outputs": [
        {
          "output_type": "stream",
          "text": [
            "(60000, 28, 28, 1)\n",
            "(60000,)\n",
            "(10000, 28, 28, 1)\n",
            "(10000,)\n"
          ],
          "name": "stdout"
        }
      ]
    },
    {
      "cell_type": "markdown",
      "metadata": {
        "id": "w-qdGb6vg0-h",
        "colab_type": "text"
      },
      "source": [
        "# Data augmentation"
      ]
    },
    {
      "cell_type": "code",
      "metadata": {
        "id": "UI6WPOsHg8dJ",
        "colab_type": "code",
        "colab": {}
      },
      "source": [
        "generator = ImageDataGenerator(\n",
        "    rotation_range = 15,\n",
        "    width_shift_range = 0.3,\n",
        "    height_shift_range = 0.1,\n",
        "    zoom_range = 0.1,\n",
        "    validation_split = 0.15\n",
        ")"
      ],
      "execution_count": 23,
      "outputs": []
    },
    {
      "cell_type": "markdown",
      "metadata": {
        "id": "aJS7VPzy2ikc",
        "colab_type": "text"
      },
      "source": [
        "# The model"
      ]
    },
    {
      "cell_type": "markdown",
      "metadata": {
        "id": "XFEW_1RzmFEd",
        "colab_type": "text"
      },
      "source": [
        "## Make the model"
      ]
    },
    {
      "cell_type": "code",
      "metadata": {
        "id": "FtDWSWYUgcgx",
        "colab_type": "code",
        "colab": {}
      },
      "source": [
        "# create the model\n",
        "\n",
        "model = Sequential()\n",
        "\n",
        "model.add(GaussianNoise(0.2, input_shape=(28, 28, 1)))\n",
        "\n",
        "model.add(Conv2D(filters=64, kernel_size=(3,3), activation='relu', padding='same', input_shape=(28, 28, 1)))\n",
        "model.add(MaxPooling2D(pool_size=(2,2), strides = 2, padding='same'))\n",
        "\n",
        "model.add(Conv2D(filters=128, kernel_size=(3,3), activation='relu', padding='same'))\n",
        "model.add(MaxPooling2D(pool_size=(2,2), strides = 2, padding='same'))\n",
        "\n",
        "model.add(Conv2D(filters=256, kernel_size=(3,3), activation='relu', padding='same'))\n",
        "model.add(MaxPooling2D(pool_size=(2,2), strides = 2, padding='same'))\n",
        "\n",
        "model.add(Flatten())\n",
        "model.add(Dense(512, activation='relu'))\n",
        "model.add(Dense(512, activation='relu'))\n",
        "model.add(Dense(512, activation='relu'))\n",
        "model.add(Dense(10, activation='softmax'))\n",
        "\n",
        "model.compile(optimizer='adam', loss='categorical_crossentropy', metrics=[Recall(), Precision()])"
      ],
      "execution_count": 45,
      "outputs": []
    },
    {
      "cell_type": "code",
      "metadata": {
        "id": "t6XJbhyNiQ-W",
        "colab_type": "code",
        "colab": {
          "base_uri": "https://localhost:8080/",
          "height": 1000
        },
        "outputId": "2314390f-247d-44f9-bd57-dcaa37c05737"
      },
      "source": [
        "# train the model\n",
        "# model.fit(x, pd.get_dummies(y).astype(np.float32), validation_split=0.15)\n",
        "model.fit(\n",
        "    generator.flow(x, pd.get_dummies(y).astype(np.float32), batch_size = 128),\n",
        "    validation_data = generator.flow(x, pd.get_dummies(y).astype(np.float32), subset = 'validation'),\n",
        "    steps_per_epoch = len(x) / 128,\n",
        "    epochs = 30\n",
        ")"
      ],
      "execution_count": 48,
      "outputs": [
        {
          "output_type": "stream",
          "text": [
            "Epoch 1/30\n",
            "391/390 [==============================] - 318s 814ms/step - loss: 0.1382 - recall_3: 0.9510 - precision_3: 0.9634 - val_loss: 0.1292 - val_recall_3: 0.9520 - val_precision_3: 0.9645\n",
            "Epoch 2/30\n",
            "391/390 [==============================] - 316s 809ms/step - loss: 0.0938 - recall_3: 0.9677 - precision_3: 0.9759 - val_loss: 0.0737 - val_recall_3: 0.9724 - val_precision_3: 0.9779\n",
            "Epoch 3/30\n",
            "391/390 [==============================] - 316s 808ms/step - loss: 0.0789 - recall_3: 0.9735 - precision_3: 0.9792 - val_loss: 0.0685 - val_recall_3: 0.9747 - val_precision_3: 0.9827\n",
            "Epoch 4/30\n",
            "391/390 [==============================] - 319s 817ms/step - loss: 0.0650 - recall_3: 0.9782 - precision_3: 0.9826 - val_loss: 0.0472 - val_recall_3: 0.9837 - val_precision_3: 0.9860\n",
            "Epoch 5/30\n",
            "391/390 [==============================] - 320s 818ms/step - loss: 0.0636 - recall_3: 0.9792 - precision_3: 0.9840 - val_loss: 0.0501 - val_recall_3: 0.9817 - val_precision_3: 0.9859\n",
            "Epoch 6/30\n",
            "391/390 [==============================] - 314s 803ms/step - loss: 0.0586 - recall_3: 0.9808 - precision_3: 0.9851 - val_loss: 0.0457 - val_recall_3: 0.9841 - val_precision_3: 0.9873\n",
            "Epoch 7/30\n",
            "391/390 [==============================] - 315s 806ms/step - loss: 0.0584 - recall_3: 0.9805 - precision_3: 0.9848 - val_loss: 0.0517 - val_recall_3: 0.9831 - val_precision_3: 0.9879\n",
            "Epoch 8/30\n",
            "391/390 [==============================] - 317s 811ms/step - loss: 0.0515 - recall_3: 0.9826 - precision_3: 0.9862 - val_loss: 0.0489 - val_recall_3: 0.9829 - val_precision_3: 0.9866\n",
            "Epoch 9/30\n",
            "391/390 [==============================] - 318s 814ms/step - loss: 0.0539 - recall_3: 0.9825 - precision_3: 0.9859 - val_loss: 0.0457 - val_recall_3: 0.9840 - val_precision_3: 0.9874\n",
            "Epoch 10/30\n",
            "391/390 [==============================] - 315s 807ms/step - loss: 0.0484 - recall_3: 0.9840 - precision_3: 0.9875 - val_loss: 0.0374 - val_recall_3: 0.9865 - val_precision_3: 0.9893\n",
            "Epoch 11/30\n",
            "391/390 [==============================] - 315s 805ms/step - loss: 0.0491 - recall_3: 0.9844 - precision_3: 0.9881 - val_loss: 0.0470 - val_recall_3: 0.9847 - val_precision_3: 0.9890\n",
            "Epoch 12/30\n",
            "391/390 [==============================] - 314s 804ms/step - loss: 0.0462 - recall_3: 0.9842 - precision_3: 0.9872 - val_loss: 0.0514 - val_recall_3: 0.9825 - val_precision_3: 0.9857\n",
            "Epoch 13/30\n",
            "391/390 [==============================] - 313s 800ms/step - loss: 0.0483 - recall_3: 0.9845 - precision_3: 0.9879 - val_loss: 0.0468 - val_recall_3: 0.9851 - val_precision_3: 0.9894\n",
            "Epoch 14/30\n",
            "391/390 [==============================] - 310s 794ms/step - loss: 0.0453 - recall_3: 0.9857 - precision_3: 0.9888 - val_loss: 0.0371 - val_recall_3: 0.9868 - val_precision_3: 0.9896\n",
            "Epoch 15/30\n",
            "391/390 [==============================] - 312s 798ms/step - loss: 0.0433 - recall_3: 0.9859 - precision_3: 0.9889 - val_loss: 0.0301 - val_recall_3: 0.9908 - val_precision_3: 0.9925\n",
            "Epoch 16/30\n",
            "391/390 [==============================] - 316s 807ms/step - loss: 0.0430 - recall_3: 0.9858 - precision_3: 0.9890 - val_loss: 0.0427 - val_recall_3: 0.9868 - val_precision_3: 0.9886\n",
            "Epoch 17/30\n",
            "391/390 [==============================] - 315s 805ms/step - loss: 0.0423 - recall_3: 0.9860 - precision_3: 0.9892 - val_loss: 0.0308 - val_recall_3: 0.9884 - val_precision_3: 0.9909\n",
            "Epoch 18/30\n",
            "391/390 [==============================] - 311s 795ms/step - loss: 0.0407 - recall_3: 0.9865 - precision_3: 0.9894 - val_loss: 0.0268 - val_recall_3: 0.9907 - val_precision_3: 0.9937\n",
            "Epoch 19/30\n",
            "391/390 [==============================] - 312s 799ms/step - loss: 0.0403 - recall_3: 0.9869 - precision_3: 0.9900 - val_loss: 0.0500 - val_recall_3: 0.9817 - val_precision_3: 0.9878\n",
            "Epoch 20/30\n",
            "391/390 [==============================] - 316s 808ms/step - loss: 0.0425 - recall_3: 0.9862 - precision_3: 0.9894 - val_loss: 0.0256 - val_recall_3: 0.9904 - val_precision_3: 0.9925\n",
            "Epoch 21/30\n",
            "391/390 [==============================] - 316s 808ms/step - loss: 0.0384 - recall_3: 0.9873 - precision_3: 0.9903 - val_loss: 0.0361 - val_recall_3: 0.9891 - val_precision_3: 0.9904\n",
            "Epoch 22/30\n",
            "391/390 [==============================] - 317s 810ms/step - loss: 0.0396 - recall_3: 0.9864 - precision_3: 0.9894 - val_loss: 0.0291 - val_recall_3: 0.9907 - val_precision_3: 0.9924\n",
            "Epoch 23/30\n",
            "391/390 [==============================] - 317s 811ms/step - loss: 0.0373 - recall_3: 0.9885 - precision_3: 0.9911 - val_loss: 0.0345 - val_recall_3: 0.9876 - val_precision_3: 0.9900\n",
            "Epoch 24/30\n",
            "391/390 [==============================] - 322s 824ms/step - loss: 0.0379 - recall_3: 0.9880 - precision_3: 0.9908 - val_loss: 0.0330 - val_recall_3: 0.9896 - val_precision_3: 0.9916\n",
            "Epoch 25/30\n",
            "391/390 [==============================] - 313s 802ms/step - loss: 0.0353 - recall_3: 0.9887 - precision_3: 0.9916 - val_loss: 0.0345 - val_recall_3: 0.9896 - val_precision_3: 0.9921\n",
            "Epoch 26/30\n",
            "391/390 [==============================] - 311s 796ms/step - loss: 0.0359 - recall_3: 0.9889 - precision_3: 0.9917 - val_loss: 0.0306 - val_recall_3: 0.9889 - val_precision_3: 0.9920\n",
            "Epoch 27/30\n",
            "391/390 [==============================] - 309s 791ms/step - loss: 0.0355 - recall_3: 0.9890 - precision_3: 0.9917 - val_loss: 0.0663 - val_recall_3: 0.9816 - val_precision_3: 0.9858\n",
            "Epoch 28/30\n",
            "391/390 [==============================] - 315s 805ms/step - loss: 0.0353 - recall_3: 0.9890 - precision_3: 0.9913 - val_loss: 0.0256 - val_recall_3: 0.9924 - val_precision_3: 0.9943\n",
            "Epoch 29/30\n",
            "391/390 [==============================] - 319s 815ms/step - loss: 0.0320 - recall_3: 0.9897 - precision_3: 0.9920 - val_loss: 0.0260 - val_recall_3: 0.9915 - val_precision_3: 0.9927\n",
            "Epoch 30/30\n",
            "391/390 [==============================] - 313s 802ms/step - loss: 0.0374 - recall_3: 0.9886 - precision_3: 0.9912 - val_loss: 0.0284 - val_recall_3: 0.9907 - val_precision_3: 0.9930\n"
          ],
          "name": "stdout"
        },
        {
          "output_type": "execute_result",
          "data": {
            "text/plain": [
              "<tensorflow.python.keras.callbacks.History at 0x7f7a9e3ccd68>"
            ]
          },
          "metadata": {
            "tags": []
          },
          "execution_count": 48
        }
      ]
    },
    {
      "cell_type": "markdown",
      "metadata": {
        "id": "avhD_RgJl9uX",
        "colab_type": "text"
      },
      "source": [
        "## Save the model"
      ]
    },
    {
      "cell_type": "code",
      "metadata": {
        "id": "BrBUsInXiVxl",
        "colab_type": "code",
        "colab": {
          "base_uri": "https://localhost:8080/",
          "height": 17
        },
        "outputId": "e3f1f160-f5d2-465f-9e01-f9c0d6b31827"
      },
      "source": [
        "# save the model\n",
        "model.save('model.h5')\n",
        "zipfile.ZipFile('model.h5.zip', mode='w').write(\"model.h5\")\n",
        "files.download('model.h5.zip') "
      ],
      "execution_count": 49,
      "outputs": [
        {
          "output_type": "display_data",
          "data": {
            "application/javascript": [
              "\n",
              "    async function download(id, filename, size) {\n",
              "      if (!google.colab.kernel.accessAllowed) {\n",
              "        return;\n",
              "      }\n",
              "      const div = document.createElement('div');\n",
              "      const label = document.createElement('label');\n",
              "      label.textContent = `Downloading \"${filename}\": `;\n",
              "      div.appendChild(label);\n",
              "      const progress = document.createElement('progress');\n",
              "      progress.max = size;\n",
              "      div.appendChild(progress);\n",
              "      document.body.appendChild(div);\n",
              "\n",
              "      const buffers = [];\n",
              "      let downloaded = 0;\n",
              "\n",
              "      const channel = await google.colab.kernel.comms.open(id);\n",
              "      // Send a message to notify the kernel that we're ready.\n",
              "      channel.send({})\n",
              "\n",
              "      for await (const message of channel.messages) {\n",
              "        // Send a message to notify the kernel that we're ready.\n",
              "        channel.send({})\n",
              "        if (message.buffers) {\n",
              "          for (const buffer of message.buffers) {\n",
              "            buffers.push(buffer);\n",
              "            downloaded += buffer.byteLength;\n",
              "            progress.value = downloaded;\n",
              "          }\n",
              "        }\n",
              "      }\n",
              "      const blob = new Blob(buffers, {type: 'application/binary'});\n",
              "      const a = document.createElement('a');\n",
              "      a.href = window.URL.createObjectURL(blob);\n",
              "      a.download = filename;\n",
              "      div.appendChild(a);\n",
              "      a.click();\n",
              "      div.remove();\n",
              "    }\n",
              "  "
            ],
            "text/plain": [
              "<IPython.core.display.Javascript object>"
            ]
          },
          "metadata": {
            "tags": []
          }
        },
        {
          "output_type": "display_data",
          "data": {
            "application/javascript": [
              "download(\"download_f9232584-2be4-4b93-8013-5bc5cda94898\", \"model.h5.zip\", 36041914)"
            ],
            "text/plain": [
              "<IPython.core.display.Javascript object>"
            ]
          },
          "metadata": {
            "tags": []
          }
        }
      ]
    },
    {
      "cell_type": "markdown",
      "metadata": {
        "id": "ZdzC1J6AlzXq",
        "colab_type": "text"
      },
      "source": [
        "## Evaluate on itself"
      ]
    },
    {
      "cell_type": "code",
      "metadata": {
        "id": "BTSuo3Wjk0jp",
        "colab_type": "code",
        "colab": {}
      },
      "source": [
        "# make the prediction\n",
        "y_pred = model.predict(x)\n",
        "# transform prediction to labels\n",
        "y_pred_labels = np.argmax(y_pred, axis=1).astype(np.uint8)"
      ],
      "execution_count": 50,
      "outputs": []
    },
    {
      "cell_type": "code",
      "metadata": {
        "id": "c4wH0P3ciaLQ",
        "colab_type": "code",
        "colab": {
          "base_uri": "https://localhost:8080/",
          "height": 67
        },
        "outputId": "ed44824a-7509-4b9c-ade6-fa6262808689"
      },
      "source": [
        "# evaluate performance of the model\n",
        "tf.print(f1_score(y_pred_labels, y, average='micro'))\n",
        "tf.print(f1_score(y_pred_labels, y, average='macro'))\n",
        "tf.print(f1_score(y_pred_labels, y, average='weighted'))"
      ],
      "execution_count": 51,
      "outputs": [
        {
          "output_type": "stream",
          "text": [
            "0.99352\n",
            "0.9934786513667186\n",
            "0.9935209626689397\n"
          ],
          "name": "stdout"
        }
      ]
    },
    {
      "cell_type": "markdown",
      "metadata": {
        "id": "xFDpbUFZlZit",
        "colab_type": "text"
      },
      "source": [
        "## Evaluate on mnist test"
      ]
    },
    {
      "cell_type": "code",
      "metadata": {
        "id": "HUd7fZ8olcft",
        "colab_type": "code",
        "colab": {}
      },
      "source": [
        "# predict on mnist test\n",
        "y_pred_mnist_test = np.argmax(model.predict(mnist_X_test), axis=1).astype(np.uint8)"
      ],
      "execution_count": 52,
      "outputs": []
    },
    {
      "cell_type": "code",
      "metadata": {
        "id": "H8CF-1ZlZkGS",
        "colab_type": "code",
        "colab": {
          "base_uri": "https://localhost:8080/",
          "height": 67
        },
        "outputId": "3c817614-909a-47e3-8d88-28cd702ec2ed"
      },
      "source": [
        "# evaluate on mnist test\n",
        "tf.print(f1_score(y_pred_mnist_test, mnist_y_test, average='micro'))\n",
        "tf.print(f1_score(y_pred_mnist_test, mnist_y_test, average='macro'))\n",
        "tf.print(f1_score(y_pred_mnist_test, mnist_y_test, average='weighted'))"
      ],
      "execution_count": 53,
      "outputs": [
        {
          "output_type": "stream",
          "text": [
            "0.9914\n",
            "0.9913711488953412\n",
            "0.991402461523186\n"
          ],
          "name": "stdout"
        }
      ]
    },
    {
      "cell_type": "markdown",
      "metadata": {
        "id": "k0kD0GDqli51",
        "colab_type": "text"
      },
      "source": [
        "# Evaluate on mnist train"
      ]
    },
    {
      "cell_type": "code",
      "metadata": {
        "id": "pdAh-xwulgS1",
        "colab_type": "code",
        "colab": {}
      },
      "source": [
        "# predict on mnist train\n",
        "y_pred_mnist_train = np.argmax(model.predict(mnist_X_train), axis=1).astype(np.uint8)"
      ],
      "execution_count": 54,
      "outputs": []
    },
    {
      "cell_type": "code",
      "metadata": {
        "id": "4cebRcHlZjt3",
        "colab_type": "code",
        "colab": {
          "base_uri": "https://localhost:8080/",
          "height": 67
        },
        "outputId": "887d9734-a6ac-4435-a6c3-8f9d6df2702b"
      },
      "source": [
        "# evaluate on mnist train\n",
        "tf.print(f1_score(y_pred_mnist_train, mnist_y_train, average='micro'))\n",
        "tf.print(f1_score(y_pred_mnist_train, mnist_y_train, average='macro'))\n",
        "tf.print(f1_score(y_pred_mnist_train, mnist_y_train, average='weighted'))"
      ],
      "execution_count": 55,
      "outputs": [
        {
          "output_type": "stream",
          "text": [
            "0.9931333333333333\n",
            "0.993085299240551\n",
            "0.9931346184292125\n"
          ],
          "name": "stdout"
        }
      ]
    }
  ]
}