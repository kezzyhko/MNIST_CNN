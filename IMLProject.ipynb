{
  "nbformat": 4,
  "nbformat_minor": 0,
  "metadata": {
    "colab": {
      "name": "IMLProject",
      "provenance": [],
      "collapsed_sections": []
    },
    "kernelspec": {
      "name": "python3",
      "display_name": "Python 3"
    }
  },
  "cells": [
    {
      "cell_type": "markdown",
      "metadata": {
        "id": "lohPUbbI2eUp",
        "colab_type": "text"
      },
      "source": [
        "# Preparing\n",
        "Run once when disconnected"
      ]
    },
    {
      "cell_type": "code",
      "metadata": {
        "id": "aBg1WuyjgG9R",
        "colab_type": "code",
        "colab": {}
      },
      "source": [
        "# imports\n",
        "import numpy as np\n",
        "import pandas as pd\n",
        "from tensorflow.keras.models import Sequential\n",
        "from tensorflow.keras.layers import Dense, Dropout, Flatten, Conv2D, MaxPooling2D, GaussianNoise, BatchNormalization\n",
        "from tensorflow.keras.metrics import Recall, Precision\n",
        "from tensorflow.keras.optimizers import SGD\n",
        "from tensorflow.keras.preprocessing.image import ImageDataGenerator\n",
        "from tensorflow.keras.utils import to_categorical\n",
        "import tensorflow as tf\n",
        "import zipfile\n",
        "from sklearn.metrics import f1_score\n",
        "import os\n",
        "from google.colab import files\n",
        "import matplotlib.pyplot as plt"
      ],
      "execution_count": 20,
      "outputs": []
    },
    {
      "cell_type": "code",
      "metadata": {
        "id": "DVkWTWOngbQJ",
        "colab_type": "code",
        "colab": {}
      },
      "source": [
        "# download the dataset\n",
        "if (not os.path.isfile('x.npy')):\n",
        "    !wget -q https://gist.github.com/kezzyhko/74136f15acb0ac57e64a761176776ab0/raw/x.npy\n",
        "if (not os.path.isfile('y.npy')):\n",
        "    !wget -q https://gist.github.com/kezzyhko/74136f15acb0ac57e64a761176776ab0/raw/y.npy"
      ],
      "execution_count": 21,
      "outputs": []
    },
    {
      "cell_type": "code",
      "metadata": {
        "id": "sYjwZxnEiHQo",
        "colab_type": "code",
        "colab": {
          "base_uri": "https://localhost:8080/",
          "height": 50
        },
        "outputId": "689d9bf5-cc43-4237-e848-546f3ae422ab"
      },
      "source": [
        "# load the dataset\n",
        "\n",
        "x = np.load('x.npy')\n",
        "y = np.load('y.npy')\n",
        "\n",
        "print(x.shape)\n",
        "print(y.shape)"
      ],
      "execution_count": 22,
      "outputs": [
        {
          "output_type": "stream",
          "text": [
            "(50000, 28, 28, 1)\n",
            "(50000,)\n"
          ],
          "name": "stdout"
        }
      ]
    },
    {
      "cell_type": "code",
      "metadata": {
        "id": "ZHgt92BxY4lc",
        "colab_type": "code",
        "colab": {
          "base_uri": "https://localhost:8080/",
          "height": 84
        },
        "outputId": "8e22faeb-8f83-4a16-f8bc-cee8025aa59e"
      },
      "source": [
        "# load mnist (for evaluation later)\n",
        "(mnist_X_train, mnist_y_train), (mnist_X_test, mnist_y_test) = tf.keras.datasets.mnist.load_data()\n",
        "mnist_X_train = mnist_X_train.reshape((60000, 28, 28, 1))\n",
        "mnist_X_test = mnist_X_test.reshape((10000, 28, 28, 1))\n",
        "print(mnist_X_train.shape)\n",
        "print(mnist_y_train.shape)\n",
        "print(mnist_X_test.shape)\n",
        "print(mnist_y_test.shape)"
      ],
      "execution_count": 23,
      "outputs": [
        {
          "output_type": "stream",
          "text": [
            "(60000, 28, 28, 1)\n",
            "(60000,)\n",
            "(10000, 28, 28, 1)\n",
            "(10000,)\n"
          ],
          "name": "stdout"
        }
      ]
    },
    {
      "cell_type": "markdown",
      "metadata": {
        "id": "w-qdGb6vg0-h",
        "colab_type": "text"
      },
      "source": [
        "# Data augmentation"
      ]
    },
    {
      "cell_type": "code",
      "metadata": {
        "id": "-VCe3NTZ7PI7",
        "colab_type": "code",
        "colab": {
          "base_uri": "https://localhost:8080/",
          "height": 281
        },
        "outputId": "9cdf16f7-bbfa-4d27-f365-750f7bc1a22b"
      },
      "source": [
        "# plt.imshow(x[0].reshape(28, 28)/255., cmap='Greys')\n",
        "g = GaussianNoise(40)\n",
        "x = g(x.astype('float32'), training=True)\n",
        "plt.imshow(tf.reshape(x[0], (28, 28))/255., cmap='Greys')"
      ],
      "execution_count": 24,
      "outputs": [
        {
          "output_type": "execute_result",
          "data": {
            "text/plain": [
              "<matplotlib.image.AxesImage at 0x7f656383fbe0>"
            ]
          },
          "metadata": {
            "tags": []
          },
          "execution_count": 24
        },
        {
          "output_type": "display_data",
          "data": {
            "image/png": "[encoded data removed]",
            "text/plain": [
              "<Figure size 432x288 with 1 Axes>"
            ]
          },
          "metadata": {
            "tags": [],
            "needs_background": "light"
          }
        }
      ]
    },
    {
      "cell_type": "code",
      "metadata": {
        "id": "UI6WPOsHg8dJ",
        "colab_type": "code",
        "colab": {}
      },
      "source": [
        "generator = ImageDataGenerator(\n",
        "    rotation_range = 15,\n",
        "    width_shift_range = 0.3,\n",
        "    height_shift_range = 0.1,\n",
        "    zoom_range = 0.1,\n",
        "    validation_split = 0.15\n",
        ")"
      ],
      "execution_count": 25,
      "outputs": []
    },
    {
      "cell_type": "markdown",
      "metadata": {
        "id": "aJS7VPzy2ikc",
        "colab_type": "text"
      },
      "source": [
        "# The model"
      ]
    },
    {
      "cell_type": "markdown",
      "metadata": {
        "id": "XFEW_1RzmFEd",
        "colab_type": "text"
      },
      "source": [
        "## Make the model"
      ]
    },
    {
      "cell_type": "code",
      "metadata": {
        "id": "FtDWSWYUgcgx",
        "colab_type": "code",
        "colab": {}
      },
      "source": [
        "# create the model\n",
        "\n",
        "model = Sequential()\n",
        "\n",
        "model.add(Conv2D(filters=64, kernel_size=(3,3), activation='relu', padding='same', input_shape=(28, 28, 1)))\n",
        "model.add(BatchNormalization())\n",
        "model.add(Dropout(0.3))\n",
        "model.add(MaxPooling2D(pool_size=(2,2), strides = 2, padding='same'))\n",
        "\n",
        "model.add(Conv2D(filters=128, kernel_size=(3,3), activation='relu', padding='same'))\n",
        "model.add(BatchNormalization())\n",
        "model.add(Dropout(0.3))\n",
        "model.add(MaxPooling2D(pool_size=(2,2), strides = 2, padding='same'))\n",
        "\n",
        "model.add(Conv2D(filters=256, kernel_size=(3,3), activation='relu', padding='same'))\n",
        "model.add(BatchNormalization())\n",
        "model.add(Dropout(0.3))\n",
        "model.add(MaxPooling2D(pool_size=(2,2), strides = 2, padding='same'))\n",
        "\n",
        "model.add(Flatten())\n",
        "model.add(Dense(1024, activation='relu'))\n",
        "model.add(Dense(512, activation='relu'))\n",
        "model.add(Dense(512, activation='relu'))\n",
        "model.add(Dense(10, activation='softmax'))\n",
        "\n",
        "model.compile(optimizer=SGD(lr=0.01, momentum=0.9), loss='categorical_crossentropy', metrics=[Recall(), Precision()])"
      ],
      "execution_count": 26,
      "outputs": []
    },
    {
      "cell_type": "code",
      "metadata": {
        "id": "t6XJbhyNiQ-W",
        "colab_type": "code",
        "colab": {
          "base_uri": "https://localhost:8080/",
          "height": 388
        },
        "outputId": "1d2469fe-08aa-49e2-8f19-773ae2bad5a7"
      },
      "source": [
        "# train the model\n",
        "# model.fit(x, to_categorical(y), validation_split=0.15)\n",
        "model.fit(\n",
        "    generator.flow(x, to_categorical(y), batch_size = 128),\n",
        "    validation_data = generator.flow(x, to_categorical(y), batch_size = 128, subset = 'validation'),\n",
        "    steps_per_epoch = len(x) / 128,\n",
        "    epochs = 10\n",
        ")"
      ],
      "execution_count": 27,
      "outputs": [
        {
          "output_type": "stream",
          "text": [
            "Epoch 1/10\n",
            "391/390 [==============================] - 404s 1s/step - loss: 0.4078 - recall_2: 0.8350 - precision_2: 0.9273 - val_loss: 0.1841 - val_recall_2: 0.9323 - val_precision_2: 0.9568\n",
            "Epoch 2/10\n",
            "391/390 [==============================] - 400s 1s/step - loss: 0.1302 - recall_2: 0.9539 - precision_2: 0.9658 - val_loss: 0.1430 - val_recall_2: 0.9437 - val_precision_2: 0.9629\n",
            "Epoch 3/10\n",
            "391/390 [==============================] - 395s 1s/step - loss: 0.0985 - recall_2: 0.9653 - precision_2: 0.9738 - val_loss: 0.1454 - val_recall_2: 0.9500 - val_precision_2: 0.9627\n",
            "Epoch 4/10\n",
            "391/390 [==============================] - 396s 1s/step - loss: 0.0850 - recall_2: 0.9707 - precision_2: 0.9776 - val_loss: 0.0899 - val_recall_2: 0.9685 - val_precision_2: 0.9790\n",
            "Epoch 5/10\n",
            "391/390 [==============================] - 395s 1s/step - loss: 0.0718 - recall_2: 0.9749 - precision_2: 0.9807 - val_loss: 0.1119 - val_recall_2: 0.9591 - val_precision_2: 0.9684\n",
            "Epoch 6/10\n",
            "391/390 [==============================] - 391s 999ms/step - loss: 0.0657 - recall_2: 0.9771 - precision_2: 0.9823 - val_loss: 0.0853 - val_recall_2: 0.9688 - val_precision_2: 0.9775\n",
            "Epoch 7/10\n",
            "391/390 [==============================] - 390s 997ms/step - loss: 0.0627 - recall_2: 0.9781 - precision_2: 0.9828 - val_loss: 0.0640 - val_recall_2: 0.9776 - val_precision_2: 0.9819\n",
            "Epoch 8/10\n",
            "391/390 [==============================] - 397s 1s/step - loss: 0.0588 - recall_2: 0.9790 - precision_2: 0.9835 - val_loss: 0.0658 - val_recall_2: 0.9767 - val_precision_2: 0.9816\n",
            "Epoch 9/10\n",
            "391/390 [==============================] - 394s 1s/step - loss: 0.0566 - recall_2: 0.9808 - precision_2: 0.9854 - val_loss: 0.0545 - val_recall_2: 0.9789 - val_precision_2: 0.9833\n",
            "Epoch 10/10\n",
            "391/390 [==============================] - 399s 1s/step - loss: 0.0514 - recall_2: 0.9818 - precision_2: 0.9851 - val_loss: 0.0599 - val_recall_2: 0.9787 - val_precision_2: 0.9837\n"
          ],
          "name": "stdout"
        },
        {
          "output_type": "execute_result",
          "data": {
            "text/plain": [
              "<tensorflow.python.keras.callbacks.History at 0x7f656386be10>"
            ]
          },
          "metadata": {
            "tags": []
          },
          "execution_count": 27
        }
      ]
    },
    {
      "cell_type": "markdown",
      "metadata": {
        "id": "avhD_RgJl9uX",
        "colab_type": "text"
      },
      "source": [
        "## Save the model"
      ]
    },
    {
      "cell_type": "code",
      "metadata": {
        "id": "BrBUsInXiVxl",
        "colab_type": "code",
        "colab": {
          "base_uri": "https://localhost:8080/",
          "height": 17
        },
        "outputId": "6c1a600a-ba83-48bd-ee6e-09fa80b81b64"
      },
      "source": [
        "# save the model\n",
        "model.save('model.h5')\n",
        "zipfile.ZipFile('model.h5.zip', mode='w').write(\"model.h5\")\n",
        "files.download('model.h5.zip') "
      ],
      "execution_count": 28,
      "outputs": [
        {
          "output_type": "display_data",
          "data": {
            "application/javascript": [
              "\n",
              "    async function download(id, filename, size) {\n",
              "      if (!google.colab.kernel.accessAllowed) {\n",
              "        return;\n",
              "      }\n",
              "      const div = document.createElement('div');\n",
              "      const label = document.createElement('label');\n",
              "      label.textContent = `Downloading \"${filename}\": `;\n",
              "      div.appendChild(label);\n",
              "      const progress = document.createElement('progress');\n",
              "      progress.max = size;\n",
              "      div.appendChild(progress);\n",
              "      document.body.appendChild(div);\n",
              "\n",
              "      const buffers = [];\n",
              "      let downloaded = 0;\n",
              "\n",
              "      const channel = await google.colab.kernel.comms.open(id);\n",
              "      // Send a message to notify the kernel that we're ready.\n",
              "      channel.send({})\n",
              "\n",
              "      for await (const message of channel.messages) {\n",
              "        // Send a message to notify the kernel that we're ready.\n",
              "        channel.send({})\n",
              "        if (message.buffers) {\n",
              "          for (const buffer of message.buffers) {\n",
              "            buffers.push(buffer);\n",
              "            downloaded += buffer.byteLength;\n",
              "            progress.value = downloaded;\n",
              "          }\n",
              "        }\n",
              "      }\n",
              "      const blob = new Blob(buffers, {type: 'application/binary'});\n",
              "      const a = document.createElement('a');\n",
              "      a.href = window.URL.createObjectURL(blob);\n",
              "      a.download = filename;\n",
              "      div.appendChild(a);\n",
              "      a.click();\n",
              "      div.remove();\n",
              "    }\n",
              "  "
            ],
            "text/plain": [
              "<IPython.core.display.Javascript object>"
            ]
          },
          "metadata": {
            "tags": []
          }
        },
        {
          "output_type": "display_data",
          "data": {
            "application/javascript": [
              "download(\"download_1202ad72-d1c4-4fb9-8eb3-39b7b6c9d074\", \"model.h5.zip\", 42962170)"
            ],
            "text/plain": [
              "<IPython.core.display.Javascript object>"
            ]
          },
          "metadata": {
            "tags": []
          }
        }
      ]
    },
    {
      "cell_type": "markdown",
      "metadata": {
        "id": "ZdzC1J6AlzXq",
        "colab_type": "text"
      },
      "source": [
        "## Evaluate on itself"
      ]
    },
    {
      "cell_type": "code",
      "metadata": {
        "id": "BTSuo3Wjk0jp",
        "colab_type": "code",
        "colab": {}
      },
      "source": [
        "# make the prediction\n",
        "y_pred = model.predict(x)\n",
        "# transform prediction to labels\n",
        "y_pred_labels = np.argmax(y_pred, axis=1).astype(np.uint8)"
      ],
      "execution_count": 29,
      "outputs": []
    },
    {
      "cell_type": "code",
      "metadata": {
        "id": "c4wH0P3ciaLQ",
        "colab_type": "code",
        "colab": {
          "base_uri": "https://localhost:8080/",
          "height": 67
        },
        "outputId": "799263d7-c244-481d-d5ac-6e2b41b05e40"
      },
      "source": [
        "# evaluate performance of the model\n",
        "tf.print(f1_score(y_pred_labels, y, average='micro'))\n",
        "tf.print(f1_score(y_pred_labels, y, average='macro'))\n",
        "tf.print(f1_score(y_pred_labels, y, average='weighted'))"
      ],
      "execution_count": 30,
      "outputs": [
        {
          "output_type": "stream",
          "text": [
            "0.98632\n",
            "0.9863278984472068\n",
            "0.9862877637513465\n"
          ],
          "name": "stdout"
        }
      ]
    },
    {
      "cell_type": "markdown",
      "metadata": {
        "id": "xFDpbUFZlZit",
        "colab_type": "text"
      },
      "source": [
        "## Evaluate on mnist test"
      ]
    },
    {
      "cell_type": "code",
      "metadata": {
        "id": "HUd7fZ8olcft",
        "colab_type": "code",
        "colab": {}
      },
      "source": [
        "# predict on mnist test\n",
        "y_pred_mnist_test = np.argmax(model.predict(mnist_X_test), axis=1).astype(np.uint8)"
      ],
      "execution_count": 31,
      "outputs": []
    },
    {
      "cell_type": "code",
      "metadata": {
        "id": "H8CF-1ZlZkGS",
        "colab_type": "code",
        "colab": {
          "base_uri": "https://localhost:8080/",
          "height": 67
        },
        "outputId": "5abe87e5-71bd-4dfb-97c4-817014df65ea"
      },
      "source": [
        "# evaluate on mnist test\n",
        "tf.print(f1_score(y_pred_mnist_test, mnist_y_test, average='micro'))\n",
        "tf.print(f1_score(y_pred_mnist_test, mnist_y_test, average='macro'))\n",
        "tf.print(f1_score(y_pred_mnist_test, mnist_y_test, average='weighted'))"
      ],
      "execution_count": 32,
      "outputs": [
        {
          "output_type": "stream",
          "text": [
            "0.8065\n",
            "0.7826223132990737\n",
            "0.8303441926293662\n"
          ],
          "name": "stdout"
        }
      ]
    },
    {
      "cell_type": "markdown",
      "metadata": {
        "id": "k0kD0GDqli51",
        "colab_type": "text"
      },
      "source": [
        "# Evaluate on mnist train"
      ]
    },
    {
      "cell_type": "code",
      "metadata": {
        "id": "pdAh-xwulgS1",
        "colab_type": "code",
        "colab": {}
      },
      "source": [
        "# predict on mnist train\n",
        "y_pred_mnist_train = np.argmax(model.predict(mnist_X_train), axis=1).astype(np.uint8)"
      ],
      "execution_count": 33,
      "outputs": []
    },
    {
      "cell_type": "code",
      "metadata": {
        "id": "4cebRcHlZjt3",
        "colab_type": "code",
        "colab": {
          "base_uri": "https://localhost:8080/",
          "height": 67
        },
        "outputId": "8b34976f-cfb5-482a-e2d8-82a3483f1676"
      },
      "source": [
        "# evaluate on mnist train\n",
        "tf.print(f1_score(y_pred_mnist_train, mnist_y_train, average='micro'))\n",
        "tf.print(f1_score(y_pred_mnist_train, mnist_y_train, average='macro'))\n",
        "tf.print(f1_score(y_pred_mnist_train, mnist_y_train, average='weighted'))"
      ],
      "execution_count": 34,
      "outputs": [
        {
          "output_type": "stream",
          "text": [
            "0.7999166666666667\n",
            "0.7756074996230777\n",
            "0.8233164670524797\n"
          ],
          "name": "stdout"
        }
      ]
    }
  ]
}