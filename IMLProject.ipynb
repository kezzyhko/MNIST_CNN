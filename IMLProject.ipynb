{
  "nbformat": 4,
  "nbformat_minor": 0,
  "metadata": {
    "colab": {
      "name": "IMLProject",
      "provenance": [],
      "collapsed_sections": []
    },
    "kernelspec": {
      "name": "python3",
      "display_name": "Python 3"
    }
  },
  "cells": [
    {
      "cell_type": "markdown",
      "metadata": {
        "id": "lohPUbbI2eUp",
        "colab_type": "text"
      },
      "source": [
        "# Run once when disconnected"
      ]
    },
    {
      "cell_type": "code",
      "metadata": {
        "id": "aBg1WuyjgG9R",
        "colab_type": "code",
        "colab": {}
      },
      "source": [
        "# imports\n",
        "import numpy as np\n",
        "import pandas as pd\n",
        "from tensorflow.keras.models import Sequential\n",
        "from tensorflow.keras.layers import Dense, Dropout, Flatten, Conv2D, MaxPooling2D\n",
        "from tensorflow.keras.metrics import Recall, Precision\n",
        "import tensorflow as tf\n",
        "import zipfile\n",
        "from sklearn.metrics import f1_score\n",
        "import os"
      ],
      "execution_count": 20,
      "outputs": []
    },
    {
      "cell_type": "code",
      "metadata": {
        "id": "sK1HEjclozYe",
        "colab_type": "code",
        "colab": {}
      },
      "source": [
        "# # define f1score\n",
        "# # taken from https://stackoverflow.com/a/43354147/6702274\n",
        "\n",
        "# import keras.backend as K\n",
        "\n",
        "# def f1_score(y_true, y_pred):\n",
        "\n",
        "#     # Count positive samples.\n",
        "#     c1 = K.sum(K.round(K.clip(y_true * y_pred, 0, 1)))\n",
        "#     c2 = K.sum(K.round(K.clip(y_pred, 0, 1)))\n",
        "#     c3 = K.sum(K.round(K.clip(y_true, 0, 1)))\n",
        "\n",
        "#     # If there are no true samples, fix the F1 score at 0.\n",
        "#     if c3 == 0:\n",
        "#         return 0.0\n",
        "\n",
        "#     # How many selected items are relevant?\n",
        "#     precision = c1 / c2\n",
        "\n",
        "#     # How many relevant items are selected?\n",
        "#     recall = c1 / c3\n",
        "\n",
        "#     # Calculate f1_score\n",
        "#     f1_score = 2 * (precision * recall) / (precision + recall + K.epsilon())\n",
        "#     return f1_score"
      ],
      "execution_count": 10,
      "outputs": []
    },
    {
      "cell_type": "code",
      "metadata": {
        "id": "DVkWTWOngbQJ",
        "colab_type": "code",
        "colab": {}
      },
      "source": [
        "# download the dataset\n",
        "if (not os.path.isfile('x.npy')):\n",
        "    !wget -q https://gist.github.com/kezzyhko/74136f15acb0ac57e64a761176776ab0/raw/x.npy\n",
        "if (not os.path.isfile('y.npy')):\n",
        "    !wget -q https://gist.github.com/kezzyhko/74136f15acb0ac57e64a761176776ab0/raw/y.npy"
      ],
      "execution_count": 3,
      "outputs": []
    },
    {
      "cell_type": "code",
      "metadata": {
        "id": "sYjwZxnEiHQo",
        "colab_type": "code",
        "colab": {
          "base_uri": "https://localhost:8080/",
          "height": 0
        },
        "outputId": "c93d8adf-02fd-406d-e38a-cec3afc67106"
      },
      "source": [
        "# load the dataset\n",
        "\n",
        "x = np.load('x.npy')\n",
        "y = np.load('y.npy')\n",
        "\n",
        "print(x.shape)\n",
        "print(y.shape)"
      ],
      "execution_count": 4,
      "outputs": [
        {
          "output_type": "stream",
          "text": [
            "(50000, 28, 28, 1)\n",
            "(50000,)\n"
          ],
          "name": "stdout"
        }
      ]
    },
    {
      "cell_type": "code",
      "metadata": {
        "id": "ZHgt92BxY4lc",
        "colab_type": "code",
        "colab": {
          "base_uri": "https://localhost:8080/",
          "height": 0
        },
        "outputId": "da1684bf-5461-444f-dfe7-9dfa87d21084"
      },
      "source": [
        "# load mnist (for evaluation later)\n",
        "(mnist_X_train, mnist_y_train), (mnist_X_test, mnist_y_test) = tf.keras.datasets.mnist.load_data()\n",
        "mnist_X_train = mnist_X_train.reshape((60000, 28, 28, 1))\n",
        "mnist_X_test = mnist_X_test.reshape((10000, 28, 28, 1))\n",
        "print(mnist_X_train.shape)\n",
        "print(mnist_y_train.shape)\n",
        "print(mnist_X_test.shape)\n",
        "print(mnist_y_test.shape)"
      ],
      "execution_count": 27,
      "outputs": [
        {
          "output_type": "stream",
          "text": [
            "(60000, 28, 28, 1)\n",
            "(60000,)\n",
            "(10000, 28, 28, 1)\n",
            "(10000,)\n"
          ],
          "name": "stdout"
        }
      ]
    },
    {
      "cell_type": "markdown",
      "metadata": {
        "id": "aJS7VPzy2ikc",
        "colab_type": "text"
      },
      "source": [
        "# Run once for every model"
      ]
    },
    {
      "cell_type": "code",
      "metadata": {
        "id": "FtDWSWYUgcgx",
        "colab_type": "code",
        "colab": {}
      },
      "source": [
        "# create the model\n",
        "\n",
        "model = Sequential()\n",
        "\n",
        "model.add(Conv2D(filters=64, kernel_size=(3,3), activation='relu', padding='same', input_shape=(28, 28, 1)))\n",
        "model.add(MaxPooling2D(pool_size=(2,2), strides = 2, padding=\"same\"))\n",
        "\n",
        "model.add(Conv2D(filters=128, kernel_size=(3,3), activation='relu', padding='same'))\n",
        "model.add(MaxPooling2D(pool_size=(2,2), strides = 2, padding=\"same\"))\n",
        "\n",
        "model.add(Conv2D(filters=256, kernel_size=(3,3), activation='relu', padding='same'))\n",
        "model.add(MaxPooling2D(pool_size=(2,2), strides = 2, padding=\"same\"))\n",
        "\n",
        "model.add(Flatten())\n",
        "model.add(Dense(256, activation='relu'))\n",
        "model.add(Dense(256, activation='relu'))\n",
        "model.add(Dense(10, activation='softmax'))\n",
        "\n",
        "model.compile(optimizer='adam', loss='categorical_crossentropy', metrics=[Recall(), Precision()])"
      ],
      "execution_count": 36,
      "outputs": []
    },
    {
      "cell_type": "code",
      "metadata": {
        "id": "t6XJbhyNiQ-W",
        "colab_type": "code",
        "colab": {
          "base_uri": "https://localhost:8080/",
          "height": 70
        },
        "outputId": "279ae571-a14a-436b-8125-808205e9bb19"
      },
      "source": [
        "# train the model\n",
        "model.fit(x, pd.get_dummies(y).astype(np.float32), validation_split=0.15)"
      ],
      "execution_count": 37,
      "outputs": [
        {
          "output_type": "stream",
          "text": [
            "1329/1329 [==============================] - 230s 173ms/step - loss: 0.2506 - recall_3: 0.9398 - precision_3: 0.9663 - val_loss: 0.0599 - val_recall_3: 0.9779 - val_precision_3: 0.9828\n"
          ],
          "name": "stdout"
        },
        {
          "output_type": "execute_result",
          "data": {
            "text/plain": [
              "<tensorflow.python.keras.callbacks.History at 0x7fab55da9a58>"
            ]
          },
          "metadata": {
            "tags": []
          },
          "execution_count": 37
        }
      ]
    },
    {
      "cell_type": "code",
      "metadata": {
        "id": "BTSuo3Wjk0jp",
        "colab_type": "code",
        "colab": {}
      },
      "source": [
        "# make the prediction\n",
        "y_pred = model.predict(x)"
      ],
      "execution_count": 38,
      "outputs": []
    },
    {
      "cell_type": "code",
      "metadata": {
        "id": "MxdCDwEimmZh",
        "colab_type": "code",
        "colab": {}
      },
      "source": [
        "# transform prediction to labels\n",
        "y_pred_labels = np.argmax(y_pred, axis=1).astype(np.uint8)"
      ],
      "execution_count": 39,
      "outputs": []
    },
    {
      "cell_type": "code",
      "metadata": {
        "id": "c4wH0P3ciaLQ",
        "colab_type": "code",
        "colab": {
          "base_uri": "https://localhost:8080/",
          "height": 50
        },
        "outputId": "ef66859d-5fef-4350-81c0-35ce10003730"
      },
      "source": [
        "# evaluate performance of the model\n",
        "tf.print(f1_score(y_pred_labels, y, average='micro'))\n",
        "tf.print(f1_score(y_pred_labels, y, average='macro'))"
      ],
      "execution_count": 40,
      "outputs": [
        {
          "output_type": "stream",
          "text": [
            "0.98486\n",
            "0.9846940804992638\n"
          ],
          "name": "stdout"
        }
      ]
    },
    {
      "cell_type": "code",
      "metadata": {
        "id": "BrBUsInXiVxl",
        "colab_type": "code",
        "colab": {}
      },
      "source": [
        "# save the model\n",
        "model.save('model.h5')\n",
        "zipfile.ZipFile('model.h5.zip', mode='w').write(\"model.h5\")"
      ],
      "execution_count": 41,
      "outputs": []
    },
    {
      "cell_type": "code",
      "metadata": {
        "id": "H8CF-1ZlZkGS",
        "colab_type": "code",
        "colab": {
          "base_uri": "https://localhost:8080/",
          "height": 50
        },
        "outputId": "936f90f6-02c6-4526-9d9c-d16d6f85a7f1"
      },
      "source": [
        "# predict and evaluate on mnist test\n",
        "y_pred_mnist_test = np.argmax(model.predict(mnist_X_test), axis=1).astype(np.uint8)\n",
        "tf.print(f1_score(y_pred_mnist_test, mnist_y_test, average='micro'))\n",
        "tf.print(f1_score(y_pred_mnist_test, mnist_y_test, average='macro'))"
      ],
      "execution_count": 42,
      "outputs": [
        {
          "output_type": "stream",
          "text": [
            "0.9834\n",
            "0.9831497969093927\n"
          ],
          "name": "stdout"
        }
      ]
    },
    {
      "cell_type": "code",
      "metadata": {
        "id": "4cebRcHlZjt3",
        "colab_type": "code",
        "colab": {
          "base_uri": "https://localhost:8080/",
          "height": 50
        },
        "outputId": "f5a921f7-f9aa-4135-f925-6bf4ace33847"
      },
      "source": [
        "# predict and evaluate on mnist train\n",
        "y_pred_mnist_train = np.argmax(model.predict(mnist_X_train), axis=1).astype(np.uint8)\n",
        "tf.print(f1_score(y_pred_mnist_train, mnist_y_train, average='micro'))\n",
        "tf.print(f1_score(y_pred_mnist_train, mnist_y_train, average='macro'))"
      ],
      "execution_count": 43,
      "outputs": [
        {
          "output_type": "stream",
          "text": [
            "0.9841833333333333\n",
            "0.9840150556271924\n"
          ],
          "name": "stdout"
        }
      ]
    }
  ]
}