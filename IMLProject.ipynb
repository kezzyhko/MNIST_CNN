{
  "nbformat": 4,
  "nbformat_minor": 0,
  "metadata": {
    "colab": {
      "name": "IMLProject",
      "provenance": [],
      "collapsed_sections": [],
      "toc_visible": true
    },
    "kernelspec": {
      "name": "python3",
      "display_name": "Python 3"
    },
    "accelerator": "GPU"
  },
  "cells": [
    {
      "cell_type": "markdown",
      "metadata": {
        "id": "lohPUbbI2eUp"
      },
      "source": [
        "# Preparing\n",
        "Run once when disconnected"
      ]
    },
    {
      "cell_type": "code",
      "metadata": {
        "id": "aBg1WuyjgG9R"
      },
      "source": [
        "# imports\n",
        "import numpy as np\n",
        "import pandas as pd\n",
        "from tensorflow.keras.models import Sequential\n",
        "from tensorflow.keras.layers import Dense, Dropout, Flatten, Conv2D, MaxPooling2D, GaussianNoise, BatchNormalization\n",
        "from tensorflow.keras.metrics import Recall, Precision\n",
        "from tensorflow.keras.optimizers import SGD\n",
        "from tensorflow.keras.preprocessing.image import ImageDataGenerator\n",
        "from tensorflow.keras.utils import to_categorical\n",
        "import tensorflow as tf\n",
        "import zipfile\n",
        "from sklearn.metrics import f1_score\n",
        "import os\n",
        "from google.colab import files\n",
        "import matplotlib.pyplot as plt"
      ],
      "execution_count": 1,
      "outputs": []
    },
    {
      "cell_type": "code",
      "metadata": {
        "id": "DVkWTWOngbQJ"
      },
      "source": [
        "# # download the dataset\n",
        "# if (not os.path.isfile('x.npy')):\n",
        "#     !wget -q https://gist.github.com/kezzyhko/74136f15acb0ac57e64a761176776ab0/raw/x.npy\n",
        "# if (not os.path.isfile('y.npy')):\n",
        "#     !wget -q https://gist.github.com/kezzyhko/74136f15acb0ac57e64a761176776ab0/raw/y.npy"
      ],
      "execution_count": 2,
      "outputs": []
    },
    {
      "cell_type": "code",
      "metadata": {
        "id": "sYjwZxnEiHQo",
        "outputId": "33c96a42-f274-44e1-c995-0545b1d3d114",
        "colab": {
          "base_uri": "https://localhost:8080/",
          "height": 84
        }
      },
      "source": [
        "# load the dataset\n",
        "\n",
        "(mnist_X_train, mnist_y_train), (mnist_X_test, mnist_y_test) = tf.keras.datasets.mnist.load_data()\n",
        "mnist_X_train = mnist_X_train.reshape((60000, 28, 28, 1))\n",
        "mnist_X_test = mnist_X_test.reshape((10000, 28, 28, 1))\n",
        "\n",
        "x = np.concatenate((mnist_X_train, mnist_X_test), axis=0)\n",
        "y = np.concatenate((mnist_y_train, mnist_y_test), axis=0)\n",
        "\n",
        "print(x.shape)\n",
        "print(y.shape)"
      ],
      "execution_count": 3,
      "outputs": [
        {
          "output_type": "stream",
          "text": [
            "Downloading data from https://storage.googleapis.com/tensorflow/tf-keras-datasets/mnist.npz\n",
            "11493376/11490434 [==============================] - 0s 0us/step\n",
            "(70000, 28, 28, 1)\n",
            "(70000,)\n"
          ],
          "name": "stdout"
        }
      ]
    },
    {
      "cell_type": "markdown",
      "metadata": {
        "id": "w-qdGb6vg0-h"
      },
      "source": [
        "# Data augmentation"
      ]
    },
    {
      "cell_type": "code",
      "metadata": {
        "id": "-VCe3NTZ7PI7"
      },
      "source": [
        "# # plt.imshow(x[0].reshape(28, 28)/255., cmap='Greys')\n",
        "# g = GaussianNoise(70)\n",
        "# x = g(x.astype('float32'), training=True)\n",
        "# plt.imshow(tf.reshape(x[0], (28, 28))/255., cmap='Greys')"
      ],
      "execution_count": 4,
      "outputs": []
    },
    {
      "cell_type": "code",
      "metadata": {
        "id": "UI6WPOsHg8dJ"
      },
      "source": [
        "generator = ImageDataGenerator(\n",
        "    rotation_range = 20,\n",
        "    width_shift_range = 0.2,\n",
        "    height_shift_range = 0.1,\n",
        "    zoom_range = (0.9, 2),\n",
        "    shear_range = 10,\n",
        "    fill_mode = 'nearest',\n",
        "    validation_split = 0.15\n",
        ")"
      ],
      "execution_count": 5,
      "outputs": []
    },
    {
      "cell_type": "code",
      "metadata": {
        "id": "WJG9W7iv0Y6S",
        "outputId": "974f3d76-58eb-4dbe-a591-6f1cc1ff67e8",
        "colab": {
          "base_uri": "https://localhost:8080/",
          "height": 1000
        }
      },
      "source": [
        "plt.figure(figsize=(10,10))\n",
        "for i in range(25):\n",
        "    plt.subplot(5,5,i+1)\n",
        "    plt.xticks([])\n",
        "    plt.yticks([])\n",
        "    plt.grid(False)\n",
        "    plt.imshow(tf.reshape(x[i], (28, 28)), cmap=plt.cm.binary)\n",
        "    plt.xlabel(y[i])\n",
        "plt.show()\n",
        "\n",
        "print('---')\n",
        "\n",
        "for x1, y1 in generator.flow(x, y, batch_size = 25):\n",
        "   plt.figure(figsize=(10,10))\n",
        "   for i in range(25):\n",
        "       plt.subplot(5,5,i+1)\n",
        "       plt.xticks([])\n",
        "       plt.yticks([])\n",
        "       plt.grid(False)\n",
        "       plt.imshow(x1[i].reshape(28, 28), cmap=plt.cm.binary)\n",
        "       plt.xlabel(y1[i])\n",
        "   plt.show()\n",
        "   break"
      ],
      "execution_count": 6,
      "outputs": [
        {
          "output_type": "display_data",
          "data": {
            "image/png": "[encoded data removed]",
            "text/plain": [
              "<Figure size 720x720 with 25 Axes>"
            ]
          },
          "metadata": {
            "tags": []
          }
        },
        {
          "output_type": "stream",
          "text": [
            "---\n"
          ],
          "name": "stdout"
        },
        {
          "output_type": "display_data",
          "data": {
            "image/png": "[encoded data removed]",
            "text/plain": [
              "<Figure size 720x720 with 25 Axes>"
            ]
          },
          "metadata": {
            "tags": []
          }
        }
      ]
    },
    {
      "cell_type": "markdown",
      "metadata": {
        "id": "aJS7VPzy2ikc"
      },
      "source": [
        "# The model"
      ]
    },
    {
      "cell_type": "markdown",
      "metadata": {
        "id": "XFEW_1RzmFEd"
      },
      "source": [
        "## Make the model"
      ]
    },
    {
      "cell_type": "code",
      "metadata": {
        "id": "FtDWSWYUgcgx"
      },
      "source": [
        "# create the model\n",
        "\n",
        "model = Sequential()\n",
        "model.add(GaussianNoise(70, input_shape=(28, 28, 1)))\n",
        "\n",
        "model.add(Conv2D(filters=64, kernel_size=(3,3), activation='relu', padding='same', input_shape=(28, 28, 1)))\n",
        "model.add(BatchNormalization())\n",
        "model.add(MaxPooling2D(pool_size=(2,2), strides = 2))\n",
        "\n",
        "model.add(Conv2D(filters=128, kernel_size=(3,3), activation='relu', padding='same'))\n",
        "\n",
        "model.add(Conv2D(filters=256, kernel_size=(3,3), activation='relu', padding='same'))\n",
        "model.add(BatchNormalization())\n",
        "model.add(MaxPooling2D(pool_size=(2,2), strides = 2))\n",
        "\n",
        "model.add(Conv2D(filters=512, kernel_size=(3,3), activation='relu'))\n",
        "# model.add(Conv2D(filters=512, kernel_size=(3,3), activation='relu'))\n",
        "\n",
        "model.add(Flatten())\n",
        "model.add(Dense(1024, activation='relu'))\n",
        "model.add(Dense(512, activation='relu'))\n",
        "model.add(Dense(512, activation='relu'))\n",
        "model.add(Dense(10, activation='softmax'))\n",
        "\n",
        "model.compile(optimizer=SGD(lr=0.01, momentum=0.9), loss='categorical_crossentropy', metrics=[Recall(), Precision()])"
      ],
      "execution_count": 7,
      "outputs": []
    },
    {
      "cell_type": "code",
      "metadata": {
        "id": "t6XJbhyNiQ-W",
        "outputId": "b03bf632-3d0d-4a2a-fd2d-d46ed0db1566",
        "colab": {
          "base_uri": "https://localhost:8080/",
          "height": 555
        }
      },
      "source": [
        "# train the model\n",
        "# model.fit(x, to_categorical(y), validation_split=0.15)\n",
        "model.fit(\n",
        "    generator.flow(x, to_categorical(y), batch_size = 128),\n",
        "    validation_data = generator.flow(x, to_categorical(y), batch_size = 128, subset = 'validation'),\n",
        "    steps_per_epoch = len(x) / 128,\n",
        "    epochs = 15\n",
        ")"
      ],
      "execution_count": 8,
      "outputs": [
        {
          "output_type": "stream",
          "text": [
            "Epoch 1/15\n",
            "547/546 [==============================] - 24s 44ms/step - loss: 0.5055 - recall: 0.7871 - precision: 0.9035 - val_loss: 0.2048 - val_recall: 0.9316 - val_precision: 0.9497\n",
            "Epoch 2/15\n",
            "547/546 [==============================] - 24s 44ms/step - loss: 0.2149 - recall: 0.9208 - precision: 0.9452 - val_loss: 0.1143 - val_recall: 0.9586 - val_precision: 0.9719\n",
            "Epoch 3/15\n",
            "547/546 [==============================] - 23s 43ms/step - loss: 0.1665 - recall: 0.9390 - precision: 0.9560 - val_loss: 0.1326 - val_recall: 0.9569 - val_precision: 0.9658\n",
            "Epoch 4/15\n",
            "547/546 [==============================] - 24s 43ms/step - loss: 0.1481 - recall: 0.9453 - precision: 0.9605 - val_loss: 0.1024 - val_recall: 0.9680 - val_precision: 0.9747\n",
            "Epoch 5/15\n",
            "547/546 [==============================] - 23s 43ms/step - loss: 0.1285 - recall: 0.9534 - precision: 0.9659 - val_loss: 0.0867 - val_recall: 0.9704 - val_precision: 0.9760\n",
            "Epoch 6/15\n",
            "547/546 [==============================] - 23s 43ms/step - loss: 0.1255 - recall: 0.9546 - precision: 0.9664 - val_loss: 0.0856 - val_recall: 0.9717 - val_precision: 0.9775\n",
            "Epoch 7/15\n",
            "547/546 [==============================] - 24s 43ms/step - loss: 0.1202 - recall: 0.9566 - precision: 0.9680 - val_loss: 0.0727 - val_recall: 0.9746 - val_precision: 0.9834\n",
            "Epoch 8/15\n",
            "547/546 [==============================] - 24s 44ms/step - loss: 0.1090 - recall: 0.9607 - precision: 0.9703 - val_loss: 0.0787 - val_recall: 0.9733 - val_precision: 0.9801\n",
            "Epoch 9/15\n",
            "547/546 [==============================] - 24s 44ms/step - loss: 0.1101 - recall: 0.9610 - precision: 0.9702 - val_loss: 0.0546 - val_recall: 0.9810 - val_precision: 0.9883\n",
            "Epoch 10/15\n",
            "547/546 [==============================] - 24s 43ms/step - loss: 0.0988 - recall: 0.9653 - precision: 0.9735 - val_loss: 0.0640 - val_recall: 0.9791 - val_precision: 0.9851\n",
            "Epoch 11/15\n",
            "547/546 [==============================] - 24s 44ms/step - loss: 0.0990 - recall: 0.9650 - precision: 0.9736 - val_loss: 0.0522 - val_recall: 0.9827 - val_precision: 0.9887\n",
            "Epoch 12/15\n",
            "547/546 [==============================] - 24s 43ms/step - loss: 0.0946 - recall: 0.9656 - precision: 0.9739 - val_loss: 0.0574 - val_recall: 0.9799 - val_precision: 0.9863\n",
            "Epoch 13/15\n",
            "547/546 [==============================] - 23s 43ms/step - loss: 0.0944 - recall: 0.9664 - precision: 0.9742 - val_loss: 0.0616 - val_recall: 0.9787 - val_precision: 0.9870\n",
            "Epoch 14/15\n",
            "547/546 [==============================] - 24s 44ms/step - loss: 0.0915 - recall: 0.9673 - precision: 0.9744 - val_loss: 0.0432 - val_recall: 0.9855 - val_precision: 0.9908\n",
            "Epoch 15/15\n",
            "547/546 [==============================] - 24s 44ms/step - loss: 0.0887 - recall: 0.9682 - precision: 0.9757 - val_loss: 0.0595 - val_recall: 0.9794 - val_precision: 0.9868\n"
          ],
          "name": "stdout"
        },
        {
          "output_type": "execute_result",
          "data": {
            "text/plain": [
              "<tensorflow.python.keras.callbacks.History at 0x7f65879a8710>"
            ]
          },
          "metadata": {
            "tags": []
          },
          "execution_count": 8
        }
      ]
    },
    {
      "cell_type": "markdown",
      "metadata": {
        "id": "avhD_RgJl9uX"
      },
      "source": [
        "## Save the model"
      ]
    },
    {
      "cell_type": "code",
      "metadata": {
        "id": "BrBUsInXiVxl",
        "outputId": "c1cf04fd-1fab-4c17-a8d8-f66c002cf76b",
        "colab": {
          "base_uri": "https://localhost:8080/",
          "height": 33
        }
      },
      "source": [
        "# save the model\n",
        "model.save('model.h5')\n",
        "zipfile.ZipFile('model.h5.zip', mode='w').write(\"model.h5\")\n",
        "print(os.path.getsize(\"/content/model.h5.zip\") / (1024*1024))\n",
        "files.download('model.h5.zip') "
      ],
      "execution_count": 9,
      "outputs": [
        {
          "output_type": "stream",
          "text": [
            "117.9683780670166\n"
          ],
          "name": "stdout"
        },
        {
          "output_type": "display_data",
          "data": {
            "application/javascript": [
              "\n",
              "    async function download(id, filename, size) {\n",
              "      if (!google.colab.kernel.accessAllowed) {\n",
              "        return;\n",
              "      }\n",
              "      const div = document.createElement('div');\n",
              "      const label = document.createElement('label');\n",
              "      label.textContent = `Downloading \"${filename}\": `;\n",
              "      div.appendChild(label);\n",
              "      const progress = document.createElement('progress');\n",
              "      progress.max = size;\n",
              "      div.appendChild(progress);\n",
              "      document.body.appendChild(div);\n",
              "\n",
              "      const buffers = [];\n",
              "      let downloaded = 0;\n",
              "\n",
              "      const channel = await google.colab.kernel.comms.open(id);\n",
              "      // Send a message to notify the kernel that we're ready.\n",
              "      channel.send({})\n",
              "\n",
              "      for await (const message of channel.messages) {\n",
              "        // Send a message to notify the kernel that we're ready.\n",
              "        channel.send({})\n",
              "        if (message.buffers) {\n",
              "          for (const buffer of message.buffers) {\n",
              "            buffers.push(buffer);\n",
              "            downloaded += buffer.byteLength;\n",
              "            progress.value = downloaded;\n",
              "          }\n",
              "        }\n",
              "      }\n",
              "      const blob = new Blob(buffers, {type: 'application/binary'});\n",
              "      const a = document.createElement('a');\n",
              "      a.href = window.URL.createObjectURL(blob);\n",
              "      a.download = filename;\n",
              "      div.appendChild(a);\n",
              "      a.click();\n",
              "      div.remove();\n",
              "    }\n",
              "  "
            ],
            "text/plain": [
              "<IPython.core.display.Javascript object>"
            ]
          },
          "metadata": {
            "tags": []
          }
        },
        {
          "output_type": "display_data",
          "data": {
            "application/javascript": [
              "download(\"download_5a0c83d9-d678-4d07-9e06-2a24e0a8b6b8\", \"model.h5.zip\", 123698810)"
            ],
            "text/plain": [
              "<IPython.core.display.Javascript object>"
            ]
          },
          "metadata": {
            "tags": []
          }
        }
      ]
    },
    {
      "cell_type": "markdown",
      "metadata": {
        "id": "ZdzC1J6AlzXq"
      },
      "source": [
        "## Evaluation"
      ]
    },
    {
      "cell_type": "code",
      "metadata": {
        "id": "BTSuo3Wjk0jp"
      },
      "source": [
        "# make the prediction\n",
        "y_pred = model.predict(x)"
      ],
      "execution_count": 10,
      "outputs": []
    },
    {
      "cell_type": "code",
      "metadata": {
        "id": "3bgJC_aa5Wmr"
      },
      "source": [
        "# transform prediction to labels\n",
        "y_pred_labels = np.argmax(y_pred, axis=1).astype(np.uint8)"
      ],
      "execution_count": 11,
      "outputs": []
    },
    {
      "cell_type": "code",
      "metadata": {
        "id": "c4wH0P3ciaLQ",
        "outputId": "80cd5505-d989-44d5-ed6e-fabd6e0e450f",
        "colab": {
          "base_uri": "https://localhost:8080/",
          "height": 67
        }
      },
      "source": [
        "# evaluate performance of the model\n",
        "tf.print(f1_score(y_pred_labels, y, average='micro'))\n",
        "tf.print(f1_score(y_pred_labels, y, average='macro'))\n",
        "tf.print(f1_score(y_pred_labels, y, average='weighted'))"
      ],
      "execution_count": 12,
      "outputs": [
        {
          "output_type": "stream",
          "text": [
            "0.9919428571428571\n",
            "0.9919383347814905\n",
            "0.9919427123134968\n"
          ],
          "name": "stdout"
        }
      ]
    }
  ]
}