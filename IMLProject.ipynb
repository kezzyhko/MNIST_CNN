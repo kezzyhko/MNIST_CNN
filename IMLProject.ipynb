{
  "nbformat": 4,
  "nbformat_minor": 0,
  "metadata": {
    "colab": {
      "name": "IMLProject",
      "provenance": [],
      "collapsed_sections": []
    },
    "kernelspec": {
      "name": "python3",
      "display_name": "Python 3"
    }
  },
  "cells": [
    {
      "cell_type": "markdown",
      "metadata": {
        "id": "lohPUbbI2eUp",
        "colab_type": "text"
      },
      "source": [
        "# Preparing\n",
        "Run once when disconnected"
      ]
    },
    {
      "cell_type": "code",
      "metadata": {
        "id": "aBg1WuyjgG9R",
        "colab_type": "code",
        "colab": {}
      },
      "source": [
        "# imports\n",
        "import numpy as np\n",
        "import pandas as pd\n",
        "from tensorflow.keras.models import Sequential\n",
        "from tensorflow.keras.layers import Dense, Dropout, Flatten, Conv2D, MaxPooling2D, GaussianNoise, BatchNormalization\n",
        "from tensorflow.keras.metrics import Recall, Precision\n",
        "from tensorflow.keras.optimizers import SGD\n",
        "from tensorflow.keras.preprocessing.image import ImageDataGenerator\n",
        "from tensorflow.keras.utils import to_categorical\n",
        "import tensorflow as tf\n",
        "import zipfile\n",
        "from sklearn.metrics import f1_score\n",
        "import os\n",
        "from google.colab import files\n",
        "import matplotlib.pyplot as plt"
      ],
      "execution_count": 10,
      "outputs": []
    },
    {
      "cell_type": "code",
      "metadata": {
        "id": "DVkWTWOngbQJ",
        "colab_type": "code",
        "colab": {}
      },
      "source": [
        "# download the dataset\n",
        "if (not os.path.isfile('x.npy')):\n",
        "    !wget -q https://gist.github.com/kezzyhko/74136f15acb0ac57e64a761176776ab0/raw/x.npy\n",
        "if (not os.path.isfile('y.npy')):\n",
        "    !wget -q https://gist.github.com/kezzyhko/74136f15acb0ac57e64a761176776ab0/raw/y.npy"
      ],
      "execution_count": 11,
      "outputs": []
    },
    {
      "cell_type": "code",
      "metadata": {
        "id": "sYjwZxnEiHQo",
        "colab_type": "code",
        "colab": {
          "base_uri": "https://localhost:8080/",
          "height": 50
        },
        "outputId": "6fa04a74-2c61-4c61-b1aa-33a72d32808e"
      },
      "source": [
        "# load the dataset\n",
        "\n",
        "x = np.load('x.npy')\n",
        "y = np.load('y.npy')\n",
        "\n",
        "print(x.shape)\n",
        "print(y.shape)"
      ],
      "execution_count": 12,
      "outputs": [
        {
          "output_type": "stream",
          "text": [
            "(50000, 28, 28, 1)\n",
            "(50000,)\n"
          ],
          "name": "stdout"
        }
      ]
    },
    {
      "cell_type": "code",
      "metadata": {
        "id": "ZHgt92BxY4lc",
        "colab_type": "code",
        "colab": {
          "base_uri": "https://localhost:8080/",
          "height": 84
        },
        "outputId": "e7180573-f90a-4c5e-ec3d-feb7e2038e9e"
      },
      "source": [
        "# load mnist (for evaluation later)\n",
        "(mnist_X_train, mnist_y_train), (mnist_X_test, mnist_y_test) = tf.keras.datasets.mnist.load_data()\n",
        "mnist_X_train = mnist_X_train.reshape((60000, 28, 28, 1))\n",
        "mnist_X_test = mnist_X_test.reshape((10000, 28, 28, 1))\n",
        "print(mnist_X_train.shape)\n",
        "print(mnist_y_train.shape)\n",
        "print(mnist_X_test.shape)\n",
        "print(mnist_y_test.shape)"
      ],
      "execution_count": 13,
      "outputs": [
        {
          "output_type": "stream",
          "text": [
            "(60000, 28, 28, 1)\n",
            "(60000,)\n",
            "(10000, 28, 28, 1)\n",
            "(10000,)\n"
          ],
          "name": "stdout"
        }
      ]
    },
    {
      "cell_type": "markdown",
      "metadata": {
        "id": "w-qdGb6vg0-h",
        "colab_type": "text"
      },
      "source": [
        "# Data augmentation"
      ]
    },
    {
      "cell_type": "code",
      "metadata": {
        "id": "-VCe3NTZ7PI7",
        "colab_type": "code",
        "colab": {
          "base_uri": "https://localhost:8080/",
          "height": 281
        },
        "outputId": "e122f938-6179-4885-b8cc-4356b8a4a186"
      },
      "source": [
        "# plt.imshow(x[0].reshape(28, 28)/255., cmap='Greys')\n",
        "g = GaussianNoise(40)\n",
        "x = g(x.astype('float32'), training=True)\n",
        "plt.imshow(tf.reshape(x[0], (28, 28))/255., cmap='Greys')"
      ],
      "execution_count": 14,
      "outputs": [
        {
          "output_type": "execute_result",
          "data": {
            "text/plain": [
              "<matplotlib.image.AxesImage at 0x7f346b1750f0>"
            ]
          },
          "metadata": {
            "tags": []
          },
          "execution_count": 14
        },
        {
          "output_type": "display_data",
          "data": {
            "image/png": "[encoded data removed]",
            "text/plain": [
              "<Figure size 432x288 with 1 Axes>"
            ]
          },
          "metadata": {
            "tags": [],
            "needs_background": "light"
          }
        }
      ]
    },
    {
      "cell_type": "code",
      "metadata": {
        "id": "UI6WPOsHg8dJ",
        "colab_type": "code",
        "colab": {}
      },
      "source": [
        "generator = ImageDataGenerator(\n",
        "    rotation_range = 15,\n",
        "    width_shift_range = 0.3,\n",
        "    height_shift_range = 0.1,\n",
        "    zoom_range = 0.1,\n",
        "    validation_split = 0.15\n",
        ")"
      ],
      "execution_count": 15,
      "outputs": []
    },
    {
      "cell_type": "markdown",
      "metadata": {
        "id": "aJS7VPzy2ikc",
        "colab_type": "text"
      },
      "source": [
        "# The model"
      ]
    },
    {
      "cell_type": "markdown",
      "metadata": {
        "id": "XFEW_1RzmFEd",
        "colab_type": "text"
      },
      "source": [
        "## Make the model"
      ]
    },
    {
      "cell_type": "code",
      "metadata": {
        "id": "FtDWSWYUgcgx",
        "colab_type": "code",
        "colab": {}
      },
      "source": [
        "# create the model\n",
        "\n",
        "model = Sequential()\n",
        "model.add(BatchNormalization(input_shape=(28, 28, 1)))\n",
        "\n",
        "model.add(Conv2D(filters=64, kernel_size=(3,3), activation='relu', padding='same'))\n",
        "model.add(BatchNormalization())\n",
        "model.add(Dropout(0.3))\n",
        "model.add(MaxPooling2D(pool_size=(2,2), strides = 2, padding='same'))\n",
        "\n",
        "model.add(Conv2D(filters=128, kernel_size=(3,3), activation='relu', padding='same'))\n",
        "model.add(BatchNormalization())\n",
        "model.add(MaxPooling2D(pool_size=(2,2), strides = 2, padding='same'))\n",
        "model.add(Dropout(0.3))\n",
        "\n",
        "model.add(Conv2D(filters=256, kernel_size=(3,3), activation='relu', padding='same'))\n",
        "model.add(BatchNormalization())\n",
        "model.add(MaxPooling2D(pool_size=(2,2), strides = 2, padding='same'))\n",
        "model.add(Dropout(0.3))\n",
        "\n",
        "model.add(Conv2D(filters=512, kernel_size=(3,3), activation='relu', padding='same'))\n",
        "model.add(Conv2D(filters=512, kernel_size=(3,3), activation='relu', padding='same'))\n",
        "model.add(BatchNormalization())\n",
        "model.add(MaxPooling2D(pool_size=(2,2), strides = 2, padding='same'))\n",
        "model.add(Dropout(0.3))\n",
        "\n",
        "model.add(Flatten())\n",
        "model.add(Dense(4096, activation='relu'))\n",
        "model.add(Dropout(0.3))\n",
        "model.add(Dense(1024, activation='relu'))\n",
        "model.add(Dense(1024, activation='relu'))\n",
        "model.add(Dropout(0.3))\n",
        "model.add(Dense(10, activation='softmax'))\n",
        "\n",
        "model.compile(optimizer=SGD(lr=0.01, momentum=0.9), loss='categorical_crossentropy', metrics=[Recall(), Precision()])"
      ],
      "execution_count": 16,
      "outputs": []
    },
    {
      "cell_type": "code",
      "metadata": {
        "id": "t6XJbhyNiQ-W",
        "colab_type": "code",
        "colab": {
          "base_uri": "https://localhost:8080/",
          "height": 388
        },
        "outputId": "f2fd9176-4795-40d8-a644-829538ee5a99"
      },
      "source": [
        "# train the model\n",
        "# model.fit(x, to_categorical(y), validation_split=0.15)\n",
        "model.fit(\n",
        "    generator.flow(x, to_categorical(y), batch_size = 128),\n",
        "    validation_data = generator.flow(x, to_categorical(y), batch_size = 128, subset = 'validation'),\n",
        "    steps_per_epoch = len(x) / 128,\n",
        "    epochs = 10\n",
        ")"
      ],
      "execution_count": 17,
      "outputs": [
        {
          "output_type": "stream",
          "text": [
            "Epoch 1/10\n",
            "391/390 [==============================] - 1101s 3s/step - loss: 0.6174 - recall: 0.7386 - precision: 0.8971 - val_loss: 0.2388 - val_recall: 0.9128 - val_precision: 0.9432\n",
            "Epoch 2/10\n",
            "391/390 [==============================] - 1099s 3s/step - loss: 0.1690 - recall: 0.9406 - precision: 0.9585 - val_loss: 0.1100 - val_recall: 0.9599 - val_precision: 0.9715\n",
            "Epoch 3/10\n",
            "391/390 [==============================] - 1099s 3s/step - loss: 0.1244 - recall: 0.9560 - precision: 0.9687 - val_loss: 0.0840 - val_recall: 0.9709 - val_precision: 0.9796\n",
            "Epoch 4/10\n",
            "391/390 [==============================] - 1095s 3s/step - loss: 0.1008 - recall: 0.9650 - precision: 0.9746 - val_loss: 0.0554 - val_recall: 0.9799 - val_precision: 0.9860\n",
            "Epoch 5/10\n",
            "391/390 [==============================] - 1078s 3s/step - loss: 0.0903 - recall: 0.9689 - precision: 0.9766 - val_loss: 0.0686 - val_recall: 0.9748 - val_precision: 0.9807\n",
            "Epoch 6/10\n",
            "391/390 [==============================] - 1085s 3s/step - loss: 0.0801 - recall: 0.9725 - precision: 0.9796 - val_loss: 0.0694 - val_recall: 0.9745 - val_precision: 0.9798\n",
            "Epoch 7/10\n",
            "391/390 [==============================] - 1074s 3s/step - loss: 0.0761 - recall: 0.9742 - precision: 0.9806 - val_loss: 0.0732 - val_recall: 0.9764 - val_precision: 0.9818\n",
            "Epoch 8/10\n",
            "391/390 [==============================] - 1076s 3s/step - loss: 0.0696 - recall: 0.9764 - precision: 0.9823 - val_loss: 0.0660 - val_recall: 0.9792 - val_precision: 0.9835\n",
            "Epoch 9/10\n",
            "391/390 [==============================] - 1082s 3s/step - loss: 0.0647 - recall: 0.9777 - precision: 0.9832 - val_loss: 0.0434 - val_recall: 0.9852 - val_precision: 0.9886\n",
            "Epoch 10/10\n",
            "391/390 [==============================] - 1076s 3s/step - loss: 0.0614 - recall: 0.9787 - precision: 0.9837 - val_loss: 0.0402 - val_recall: 0.9867 - val_precision: 0.9897\n"
          ],
          "name": "stdout"
        },
        {
          "output_type": "execute_result",
          "data": {
            "text/plain": [
              "<tensorflow.python.keras.callbacks.History at 0x7f346b12c4a8>"
            ]
          },
          "metadata": {
            "tags": []
          },
          "execution_count": 17
        }
      ]
    },
    {
      "cell_type": "markdown",
      "metadata": {
        "id": "avhD_RgJl9uX",
        "colab_type": "text"
      },
      "source": [
        "## Save the model"
      ]
    },
    {
      "cell_type": "code",
      "metadata": {
        "id": "BrBUsInXiVxl",
        "colab_type": "code",
        "colab": {
          "base_uri": "https://localhost:8080/",
          "height": 17
        },
        "outputId": "17a60bfc-99ce-4459-b02c-de2174a5e4f6"
      },
      "source": [
        "# save the model\n",
        "model.save('model.h5')\n",
        "zipfile.ZipFile('model.h5.zip', mode='w').write(\"model.h5\")\n",
        "files.download('model.h5.zip') "
      ],
      "execution_count": 18,
      "outputs": [
        {
          "output_type": "display_data",
          "data": {
            "application/javascript": [
              "\n",
              "    async function download(id, filename, size) {\n",
              "      if (!google.colab.kernel.accessAllowed) {\n",
              "        return;\n",
              "      }\n",
              "      const div = document.createElement('div');\n",
              "      const label = document.createElement('label');\n",
              "      label.textContent = `Downloading \"${filename}\": `;\n",
              "      div.appendChild(label);\n",
              "      const progress = document.createElement('progress');\n",
              "      progress.max = size;\n",
              "      div.appendChild(progress);\n",
              "      document.body.appendChild(div);\n",
              "\n",
              "      const buffers = [];\n",
              "      let downloaded = 0;\n",
              "\n",
              "      const channel = await google.colab.kernel.comms.open(id);\n",
              "      // Send a message to notify the kernel that we're ready.\n",
              "      channel.send({})\n",
              "\n",
              "      for await (const message of channel.messages) {\n",
              "        // Send a message to notify the kernel that we're ready.\n",
              "        channel.send({})\n",
              "        if (message.buffers) {\n",
              "          for (const buffer of message.buffers) {\n",
              "            buffers.push(buffer);\n",
              "            downloaded += buffer.byteLength;\n",
              "            progress.value = downloaded;\n",
              "          }\n",
              "        }\n",
              "      }\n",
              "      const blob = new Blob(buffers, {type: 'application/binary'});\n",
              "      const a = document.createElement('a');\n",
              "      a.href = window.URL.createObjectURL(blob);\n",
              "      a.download = filename;\n",
              "      div.appendChild(a);\n",
              "      a.click();\n",
              "      div.remove();\n",
              "    }\n",
              "  "
            ],
            "text/plain": [
              "<IPython.core.display.Javascript object>"
            ]
          },
          "metadata": {
            "tags": []
          }
        },
        {
          "output_type": "display_data",
          "data": {
            "application/javascript": [
              "download(\"download_9519f60d-fa20-4027-8f57-971d7d5cc51c\", \"model.h5.zip\", 140617042)"
            ],
            "text/plain": [
              "<IPython.core.display.Javascript object>"
            ]
          },
          "metadata": {
            "tags": []
          }
        }
      ]
    },
    {
      "cell_type": "markdown",
      "metadata": {
        "id": "ZdzC1J6AlzXq",
        "colab_type": "text"
      },
      "source": [
        "## Evaluate on itself"
      ]
    },
    {
      "cell_type": "code",
      "metadata": {
        "id": "BTSuo3Wjk0jp",
        "colab_type": "code",
        "colab": {}
      },
      "source": [
        "# make the prediction\n",
        "y_pred = model.predict(x)\n",
        "# transform prediction to labels\n",
        "y_pred_labels = np.argmax(y_pred, axis=1).astype(np.uint8)"
      ],
      "execution_count": 19,
      "outputs": []
    },
    {
      "cell_type": "code",
      "metadata": {
        "id": "c4wH0P3ciaLQ",
        "colab_type": "code",
        "colab": {
          "base_uri": "https://localhost:8080/",
          "height": 67
        },
        "outputId": "a71ddf92-b94f-471e-849d-e5e1d78a5ae9"
      },
      "source": [
        "# evaluate performance of the model\n",
        "tf.print(f1_score(y_pred_labels, y, average='micro'))\n",
        "tf.print(f1_score(y_pred_labels, y, average='macro'))\n",
        "tf.print(f1_score(y_pred_labels, y, average='weighted'))"
      ],
      "execution_count": 20,
      "outputs": [
        {
          "output_type": "stream",
          "text": [
            "0.9896\n",
            "0.9896444613615379\n",
            "0.989568781237624\n"
          ],
          "name": "stdout"
        }
      ]
    },
    {
      "cell_type": "markdown",
      "metadata": {
        "id": "xFDpbUFZlZit",
        "colab_type": "text"
      },
      "source": [
        "## Evaluate on mnist test"
      ]
    },
    {
      "cell_type": "code",
      "metadata": {
        "id": "HUd7fZ8olcft",
        "colab_type": "code",
        "colab": {}
      },
      "source": [
        "# predict on mnist test\n",
        "y_pred_mnist_test = np.argmax(model.predict(mnist_X_test), axis=1).astype(np.uint8)"
      ],
      "execution_count": 21,
      "outputs": []
    },
    {
      "cell_type": "code",
      "metadata": {
        "id": "H8CF-1ZlZkGS",
        "colab_type": "code",
        "colab": {
          "base_uri": "https://localhost:8080/",
          "height": 67
        },
        "outputId": "b2163cef-52b8-4041-fe2e-29ca71b208c0"
      },
      "source": [
        "# evaluate on mnist test\n",
        "tf.print(f1_score(y_pred_mnist_test, mnist_y_test, average='micro'))\n",
        "tf.print(f1_score(y_pred_mnist_test, mnist_y_test, average='macro'))\n",
        "tf.print(f1_score(y_pred_mnist_test, mnist_y_test, average='weighted'))"
      ],
      "execution_count": 22,
      "outputs": [
        {
          "output_type": "stream",
          "text": [
            "0.9898\n",
            "0.9897495699902251\n",
            "0.989800748162767\n"
          ],
          "name": "stdout"
        }
      ]
    },
    {
      "cell_type": "markdown",
      "metadata": {
        "id": "k0kD0GDqli51",
        "colab_type": "text"
      },
      "source": [
        "# Evaluate on mnist train"
      ]
    },
    {
      "cell_type": "code",
      "metadata": {
        "id": "pdAh-xwulgS1",
        "colab_type": "code",
        "colab": {}
      },
      "source": [
        "# predict on mnist train\n",
        "y_pred_mnist_train = np.argmax(model.predict(mnist_X_train), axis=1).astype(np.uint8)"
      ],
      "execution_count": 23,
      "outputs": []
    },
    {
      "cell_type": "code",
      "metadata": {
        "id": "4cebRcHlZjt3",
        "colab_type": "code",
        "colab": {
          "base_uri": "https://localhost:8080/",
          "height": 67
        },
        "outputId": "a341d6e5-e302-4c80-e599-b0d0c77fad6c"
      },
      "source": [
        "# evaluate on mnist train\n",
        "tf.print(f1_score(y_pred_mnist_train, mnist_y_train, average='micro'))\n",
        "tf.print(f1_score(y_pred_mnist_train, mnist_y_train, average='macro'))\n",
        "tf.print(f1_score(y_pred_mnist_train, mnist_y_train, average='weighted'))"
      ],
      "execution_count": 24,
      "outputs": [
        {
          "output_type": "stream",
          "text": [
            "0.9907333333333334\n",
            "0.9907008696120077\n",
            "0.9907298073785934\n"
          ],
          "name": "stdout"
        }
      ]
    }
  ]
}