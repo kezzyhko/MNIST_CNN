{
  "nbformat": 4,
  "nbformat_minor": 0,
  "metadata": {
    "colab": {
      "name": "IMLProject",
      "provenance": [],
      "collapsed_sections": [
        "lohPUbbI2eUp"
      ]
    },
    "kernelspec": {
      "name": "python3",
      "display_name": "Python 3"
    }
  },
  "cells": [
    {
      "cell_type": "markdown",
      "metadata": {
        "id": "lohPUbbI2eUp",
        "colab_type": "text"
      },
      "source": [
        "# Run once when disconnected"
      ]
    },
    {
      "cell_type": "code",
      "metadata": {
        "id": "aBg1WuyjgG9R",
        "colab_type": "code",
        "colab": {}
      },
      "source": [
        "# imports\n",
        "import numpy as np\n",
        "import pandas as pd\n",
        "from tensorflow.keras.models import Sequential\n",
        "from tensorflow.keras.layers import Dense, Dropout, Flatten, Conv2D, MaxPooling2D\n",
        "from tensorflow.keras.metrics import Recall, Precision\n",
        "import tensorflow as tf\n",
        "import zipfile\n",
        "from sklearn.metrics import f1_score\n",
        "import os\n",
        "from google.colab import files"
      ],
      "execution_count": 1,
      "outputs": []
    },
    {
      "cell_type": "code",
      "metadata": {
        "id": "sK1HEjclozYe",
        "colab_type": "code",
        "colab": {}
      },
      "source": [
        "# # define f1score\n",
        "# # taken from https://stackoverflow.com/a/43354147/6702274\n",
        "\n",
        "# import keras.backend as K\n",
        "\n",
        "# def f1_score(y_true, y_pred):\n",
        "\n",
        "#     # Count positive samples.\n",
        "#     c1 = K.sum(K.round(K.clip(y_true * y_pred, 0, 1)))\n",
        "#     c2 = K.sum(K.round(K.clip(y_pred, 0, 1)))\n",
        "#     c3 = K.sum(K.round(K.clip(y_true, 0, 1)))\n",
        "\n",
        "#     # If there are no true samples, fix the F1 score at 0.\n",
        "#     if c3 == 0:\n",
        "#         return 0.0\n",
        "\n",
        "#     # How many selected items are relevant?\n",
        "#     precision = c1 / c2\n",
        "\n",
        "#     # How many relevant items are selected?\n",
        "#     recall = c1 / c3\n",
        "\n",
        "#     # Calculate f1_score\n",
        "#     f1_score = 2 * (precision * recall) / (precision + recall + K.epsilon())\n",
        "#     return f1_score"
      ],
      "execution_count": 2,
      "outputs": []
    },
    {
      "cell_type": "code",
      "metadata": {
        "id": "DVkWTWOngbQJ",
        "colab_type": "code",
        "colab": {}
      },
      "source": [
        "# download the dataset\n",
        "if (not os.path.isfile('x.npy')):\n",
        "    !wget -q https://gist.github.com/kezzyhko/74136f15acb0ac57e64a761176776ab0/raw/x.npy\n",
        "if (not os.path.isfile('y.npy')):\n",
        "    !wget -q https://gist.github.com/kezzyhko/74136f15acb0ac57e64a761176776ab0/raw/y.npy"
      ],
      "execution_count": 3,
      "outputs": []
    },
    {
      "cell_type": "code",
      "metadata": {
        "id": "sYjwZxnEiHQo",
        "colab_type": "code",
        "colab": {
          "base_uri": "https://localhost:8080/",
          "height": 0
        },
        "outputId": "f0594d71-af5c-4959-8129-87f04c157365"
      },
      "source": [
        "# load the dataset\n",
        "\n",
        "x = np.load('x.npy')\n",
        "y = np.load('y.npy')\n",
        "\n",
        "print(x.shape)\n",
        "print(y.shape)"
      ],
      "execution_count": 4,
      "outputs": [
        {
          "output_type": "stream",
          "text": [
            "(50000, 28, 28, 1)\n",
            "(50000,)\n"
          ],
          "name": "stdout"
        }
      ]
    },
    {
      "cell_type": "code",
      "metadata": {
        "id": "ZHgt92BxY4lc",
        "colab_type": "code",
        "colab": {
          "base_uri": "https://localhost:8080/",
          "height": 0
        },
        "outputId": "f554b95a-d6af-4789-b0f1-e1f31cc5f3e0"
      },
      "source": [
        "# load mnist (for evaluation later)\n",
        "(mnist_X_train, mnist_y_train), (mnist_X_test, mnist_y_test) = tf.keras.datasets.mnist.load_data()\n",
        "mnist_X_train = mnist_X_train.reshape((60000, 28, 28, 1))\n",
        "mnist_X_test = mnist_X_test.reshape((10000, 28, 28, 1))\n",
        "print(mnist_X_train.shape)\n",
        "print(mnist_y_train.shape)\n",
        "print(mnist_X_test.shape)\n",
        "print(mnist_y_test.shape)"
      ],
      "execution_count": 5,
      "outputs": [
        {
          "output_type": "stream",
          "text": [
            "Downloading data from https://storage.googleapis.com/tensorflow/tf-keras-datasets/mnist.npz\n",
            "11493376/11490434 [==============================] - 0s 0us/step\n",
            "(60000, 28, 28, 1)\n",
            "(60000,)\n",
            "(10000, 28, 28, 1)\n",
            "(10000,)\n"
          ],
          "name": "stdout"
        }
      ]
    },
    {
      "cell_type": "markdown",
      "metadata": {
        "id": "aJS7VPzy2ikc",
        "colab_type": "text"
      },
      "source": [
        "# Run once for every model"
      ]
    },
    {
      "cell_type": "markdown",
      "metadata": {
        "id": "XFEW_1RzmFEd",
        "colab_type": "text"
      },
      "source": [
        "## Make the model"
      ]
    },
    {
      "cell_type": "code",
      "metadata": {
        "id": "FtDWSWYUgcgx",
        "colab_type": "code",
        "colab": {}
      },
      "source": [
        "# create the model\n",
        "\n",
        "model = Sequential()\n",
        "\n",
        "model.add(Conv2D(filters=32, kernel_size=(3,3), activation='relu', padding='same', input_shape=(28, 28, 1)))\n",
        "model.add(MaxPooling2D(pool_size=(2,2), strides = 2, padding='same'))\n",
        "\n",
        "model.add(Conv2D(filters=64, kernel_size=(3,3), activation='relu', padding='same'))\n",
        "model.add(MaxPooling2D(pool_size=(2,2), strides = 2, padding='same'))\n",
        "\n",
        "model.add(Conv2D(filters=128, kernel_size=(3,3), activation='relu', padding='same'))\n",
        "model.add(MaxPooling2D(pool_size=(2,2), strides = 2, padding='same'))\n",
        "\n",
        "model.add(Flatten())\n",
        "model.add(Dense(512, activation='relu'))\n",
        "model.add(Dense(512, activation='relu'))\n",
        "model.add(Dense(512, activation='relu'))\n",
        "model.add(Dense(10, activation='softmax'))\n",
        "\n",
        "model.compile(optimizer='adam', loss='categorical_crossentropy', metrics=[Recall(), Precision()])"
      ],
      "execution_count": 6,
      "outputs": []
    },
    {
      "cell_type": "code",
      "metadata": {
        "id": "t6XJbhyNiQ-W",
        "colab_type": "code",
        "colab": {
          "base_uri": "https://localhost:8080/",
          "height": 70
        },
        "outputId": "14e884ef-702a-47e5-aad8-a9df61a824a5"
      },
      "source": [
        "# train the model\n",
        "model.fit(x, pd.get_dummies(y).astype(np.float32), validation_split=0.15)"
      ],
      "execution_count": 7,
      "outputs": [
        {
          "output_type": "stream",
          "text": [
            "1329/1329 [==============================] - 94s 71ms/step - loss: 0.3133 - recall: 0.9239 - precision: 0.9568 - val_loss: 0.0931 - val_recall: 0.9732 - val_precision: 0.9761\n"
          ],
          "name": "stdout"
        },
        {
          "output_type": "execute_result",
          "data": {
            "text/plain": [
              "<tensorflow.python.keras.callbacks.History at 0x7f1e71ee1048>"
            ]
          },
          "metadata": {
            "tags": []
          },
          "execution_count": 7
        }
      ]
    },
    {
      "cell_type": "markdown",
      "metadata": {
        "id": "ZdzC1J6AlzXq",
        "colab_type": "text"
      },
      "source": [
        "## Evaluate on itself"
      ]
    },
    {
      "cell_type": "code",
      "metadata": {
        "id": "BTSuo3Wjk0jp",
        "colab_type": "code",
        "colab": {}
      },
      "source": [
        "# make the prediction\n",
        "y_pred = model.predict(x)\n",
        "# transform prediction to labels\n",
        "y_pred_labels = np.argmax(y_pred, axis=1).astype(np.uint8)"
      ],
      "execution_count": 8,
      "outputs": []
    },
    {
      "cell_type": "code",
      "metadata": {
        "id": "c4wH0P3ciaLQ",
        "colab_type": "code",
        "colab": {
          "base_uri": "https://localhost:8080/",
          "height": 67
        },
        "outputId": "895ce29a-c816-4b2e-8776-ffc1d01758a2"
      },
      "source": [
        "# evaluate performance of the model\n",
        "tf.print(f1_score(y_pred_labels, y, average='micro'))\n",
        "tf.print(f1_score(y_pred_labels, y, average='macro'))\n",
        "tf.print(f1_score(y_pred_labels, y, average='weighted'))"
      ],
      "execution_count": 9,
      "outputs": [
        {
          "output_type": "stream",
          "text": [
            "0.97764\n",
            "0.9774640220884618\n",
            "0.9776125980455309\n"
          ],
          "name": "stdout"
        }
      ]
    },
    {
      "cell_type": "markdown",
      "metadata": {
        "id": "avhD_RgJl9uX",
        "colab_type": "text"
      },
      "source": [
        "## Save the model"
      ]
    },
    {
      "cell_type": "code",
      "metadata": {
        "id": "BrBUsInXiVxl",
        "colab_type": "code",
        "colab": {
          "base_uri": "https://localhost:8080/",
          "height": 17
        },
        "outputId": "eba019c0-f35a-49fb-fa34-e9959dcd25a5"
      },
      "source": [
        "# save the model\n",
        "model.save('model.h5')\n",
        "zipfile.ZipFile('model.h5.zip', mode='w').write(\"model.h5\")\n",
        "files.download('model.h5.zip') "
      ],
      "execution_count": 10,
      "outputs": [
        {
          "output_type": "display_data",
          "data": {
            "application/javascript": [
              "\n",
              "    async function download(id, filename, size) {\n",
              "      if (!google.colab.kernel.accessAllowed) {\n",
              "        return;\n",
              "      }\n",
              "      const div = document.createElement('div');\n",
              "      const label = document.createElement('label');\n",
              "      label.textContent = `Downloading \"${filename}\": `;\n",
              "      div.appendChild(label);\n",
              "      const progress = document.createElement('progress');\n",
              "      progress.max = size;\n",
              "      div.appendChild(progress);\n",
              "      document.body.appendChild(div);\n",
              "\n",
              "      const buffers = [];\n",
              "      let downloaded = 0;\n",
              "\n",
              "      const channel = await google.colab.kernel.comms.open(id);\n",
              "      // Send a message to notify the kernel that we're ready.\n",
              "      channel.send({})\n",
              "\n",
              "      for await (const message of channel.messages) {\n",
              "        // Send a message to notify the kernel that we're ready.\n",
              "        channel.send({})\n",
              "        if (message.buffers) {\n",
              "          for (const buffer of message.buffers) {\n",
              "            buffers.push(buffer);\n",
              "            downloaded += buffer.byteLength;\n",
              "            progress.value = downloaded;\n",
              "          }\n",
              "        }\n",
              "      }\n",
              "      const blob = new Blob(buffers, {type: 'application/binary'});\n",
              "      const a = document.createElement('a');\n",
              "      a.href = window.URL.createObjectURL(blob);\n",
              "      a.download = filename;\n",
              "      div.appendChild(a);\n",
              "      a.click();\n",
              "      div.remove();\n",
              "    }\n",
              "  "
            ],
            "text/plain": [
              "<IPython.core.display.Javascript object>"
            ]
          },
          "metadata": {
            "tags": []
          }
        },
        {
          "output_type": "display_data",
          "data": {
            "application/javascript": [
              "download(\"download_28a391c3-b024-4d7c-b6df-3532347b0d9d\", \"model.h5.zip\", 20134418)"
            ],
            "text/plain": [
              "<IPython.core.display.Javascript object>"
            ]
          },
          "metadata": {
            "tags": []
          }
        }
      ]
    },
    {
      "cell_type": "markdown",
      "metadata": {
        "id": "xFDpbUFZlZit",
        "colab_type": "text"
      },
      "source": [
        "## Evaluate on mnist test"
      ]
    },
    {
      "cell_type": "code",
      "metadata": {
        "id": "HUd7fZ8olcft",
        "colab_type": "code",
        "colab": {}
      },
      "source": [
        "# predict on mnist test\n",
        "y_pred_mnist_test = np.argmax(model.predict(mnist_X_test), axis=1).astype(np.uint8)"
      ],
      "execution_count": 11,
      "outputs": []
    },
    {
      "cell_type": "code",
      "metadata": {
        "id": "H8CF-1ZlZkGS",
        "colab_type": "code",
        "colab": {
          "base_uri": "https://localhost:8080/",
          "height": 67
        },
        "outputId": "82befb06-485c-45fe-ee36-84d6160ea5b1"
      },
      "source": [
        "# evaluate on mnist test\n",
        "tf.print(f1_score(y_pred_mnist_test, mnist_y_test, average='micro'))\n",
        "tf.print(f1_score(y_pred_mnist_test, mnist_y_test, average='macro'))\n",
        "tf.print(f1_score(y_pred_mnist_test, mnist_y_test, average='weighted'))"
      ],
      "execution_count": 12,
      "outputs": [
        {
          "output_type": "stream",
          "text": [
            "0.9762000000000001\n",
            "0.9758254579590192\n",
            "0.9761864717737339\n"
          ],
          "name": "stdout"
        }
      ]
    },
    {
      "cell_type": "markdown",
      "metadata": {
        "id": "k0kD0GDqli51",
        "colab_type": "text"
      },
      "source": [
        "# Evaluate on mnist train"
      ]
    },
    {
      "cell_type": "code",
      "metadata": {
        "id": "pdAh-xwulgS1",
        "colab_type": "code",
        "colab": {}
      },
      "source": [
        "# predict on mnist train\n",
        "y_pred_mnist_train = np.argmax(model.predict(mnist_X_train), axis=1).astype(np.uint8)"
      ],
      "execution_count": 13,
      "outputs": []
    },
    {
      "cell_type": "code",
      "metadata": {
        "id": "4cebRcHlZjt3",
        "colab_type": "code",
        "colab": {
          "base_uri": "https://localhost:8080/",
          "height": 67
        },
        "outputId": "b7abc37e-b4a9-404b-ce67-89529d0e16e1"
      },
      "source": [
        "# evaluate on mnist train\n",
        "tf.print(f1_score(y_pred_mnist_train, mnist_y_train, average='micro'))\n",
        "tf.print(f1_score(y_pred_mnist_train, mnist_y_train, average='macro'))\n",
        "tf.print(f1_score(y_pred_mnist_train, mnist_y_train, average='weighted'))"
      ],
      "execution_count": 14,
      "outputs": [
        {
          "output_type": "stream",
          "text": [
            "0.9770333333333333\n",
            "0.9768484799298746\n",
            "0.9770101131799572\n"
          ],
          "name": "stdout"
        }
      ]
    }
  ]
}