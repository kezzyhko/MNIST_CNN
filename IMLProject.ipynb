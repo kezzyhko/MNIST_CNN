{
  "nbformat": 4,
  "nbformat_minor": 0,
  "metadata": {
    "colab": {
      "name": "IMLProject",
      "provenance": [],
      "collapsed_sections": [],
      "toc_visible": true
    },
    "kernelspec": {
      "name": "python3",
      "display_name": "Python 3"
    },
    "accelerator": "GPU"
  },
  "cells": [
    {
      "cell_type": "markdown",
      "metadata": {
        "id": "lohPUbbI2eUp"
      },
      "source": [
        "# Preparing\n",
        "Run once when disconnected"
      ]
    },
    {
      "cell_type": "code",
      "metadata": {
        "id": "aBg1WuyjgG9R"
      },
      "source": [
        "# imports\n",
        "import numpy as np\n",
        "import pandas as pd\n",
        "from tensorflow.keras.models import Sequential\n",
        "from tensorflow.keras.layers import Dense, Dropout, Flatten, Conv2D, MaxPooling2D, GaussianNoise, BatchNormalization\n",
        "from tensorflow.keras.metrics import Recall, Precision\n",
        "from tensorflow.keras.optimizers import SGD\n",
        "from tensorflow.keras.preprocessing.image import ImageDataGenerator\n",
        "from tensorflow.keras.utils import to_categorical\n",
        "import tensorflow as tf\n",
        "import zipfile\n",
        "from sklearn.metrics import f1_score\n",
        "import os\n",
        "from google.colab import files\n",
        "import matplotlib.pyplot as plt"
      ],
      "execution_count": 88,
      "outputs": []
    },
    {
      "cell_type": "code",
      "metadata": {
        "id": "DVkWTWOngbQJ"
      },
      "source": [
        "# # download the dataset\n",
        "# if (not os.path.isfile('x.npy')):\n",
        "#     !wget -q https://gist.github.com/kezzyhko/74136f15acb0ac57e64a761176776ab0/raw/x.npy\n",
        "# if (not os.path.isfile('y.npy')):\n",
        "#     !wget -q https://gist.github.com/kezzyhko/74136f15acb0ac57e64a761176776ab0/raw/y.npy"
      ],
      "execution_count": 89,
      "outputs": []
    },
    {
      "cell_type": "code",
      "metadata": {
        "id": "sYjwZxnEiHQo",
        "outputId": "69bc4f88-9792-4750-8b9a-16067aee8214",
        "colab": {
          "base_uri": "https://localhost:8080/",
          "height": 50
        }
      },
      "source": [
        "# load the dataset\n",
        "\n",
        "(mnist_X_train, mnist_y_train), (mnist_X_test, mnist_y_test) = tf.keras.datasets.mnist.load_data()\n",
        "mnist_X_train = mnist_X_train.reshape((60000, 28, 28, 1))\n",
        "mnist_X_test = mnist_X_test.reshape((10000, 28, 28, 1))\n",
        "\n",
        "x = np.concatenate((mnist_X_train, mnist_X_test), axis=0)\n",
        "y = np.concatenate((mnist_y_train, mnist_y_test), axis=0)\n",
        "\n",
        "print(x.shape)\n",
        "print(y.shape)"
      ],
      "execution_count": 90,
      "outputs": [
        {
          "output_type": "stream",
          "text": [
            "(70000, 28, 28, 1)\n",
            "(70000,)\n"
          ],
          "name": "stdout"
        }
      ]
    },
    {
      "cell_type": "markdown",
      "metadata": {
        "id": "w-qdGb6vg0-h"
      },
      "source": [
        "# Data augmentation"
      ]
    },
    {
      "cell_type": "code",
      "metadata": {
        "id": "-VCe3NTZ7PI7"
      },
      "source": [
        "# # plt.imshow(x[0].reshape(28, 28)/255., cmap='Greys')\n",
        "# g = GaussianNoise(70)\n",
        "# x = g(x.astype('float32'), training=True)\n",
        "# plt.imshow(tf.reshape(x[0], (28, 28))/255., cmap='Greys')"
      ],
      "execution_count": 91,
      "outputs": []
    },
    {
      "cell_type": "code",
      "metadata": {
        "id": "UI6WPOsHg8dJ"
      },
      "source": [
        "generator = ImageDataGenerator(\n",
        "    rotation_range = 20,\n",
        "    width_shift_range = 0.2,\n",
        "    height_shift_range = 0.1,\n",
        "    zoom_range = (0.9, 2.0),\n",
        "    shear_range = 10,\n",
        "    brightness_range = (0.001, 1),\n",
        "    fill_mode = 'nearest',\n",
        "    validation_split = 0.15\n",
        ")"
      ],
      "execution_count": 102,
      "outputs": []
    },
    {
      "cell_type": "code",
      "metadata": {
        "id": "WJG9W7iv0Y6S",
        "outputId": "a83b050e-71b9-44f1-a186-a8e3671cc860",
        "colab": {
          "base_uri": "https://localhost:8080/",
          "height": 589
        }
      },
      "source": [
        "for x1, y1 in generator.flow(x, y, batch_size = 25):\n",
        "   plt.figure(figsize=(10,10))\n",
        "   for i in range(25):\n",
        "       plt.subplot(5,5,i+1)\n",
        "       plt.xticks([])\n",
        "       plt.yticks([])\n",
        "       plt.grid(False)\n",
        "       plt.imshow(x1[i].reshape(28, 28), cmap=plt.cm.binary)\n",
        "       plt.xlabel(y1[i])\n",
        "   plt.show()\n",
        "   break"
      ],
      "execution_count": 103,
      "outputs": [
        {
          "output_type": "display_data",
          "data": {
            "image/png": "[encoded data removed]",
            "text/plain": [
              "<Figure size 720x720 with 25 Axes>"
            ]
          },
          "metadata": {
            "tags": []
          }
        }
      ]
    },
    {
      "cell_type": "markdown",
      "metadata": {
        "id": "aJS7VPzy2ikc"
      },
      "source": [
        "# The model"
      ]
    },
    {
      "cell_type": "markdown",
      "metadata": {
        "id": "XFEW_1RzmFEd"
      },
      "source": [
        "## Make the model"
      ]
    },
    {
      "cell_type": "code",
      "metadata": {
        "id": "FtDWSWYUgcgx"
      },
      "source": [
        "# create the model\n",
        "\n",
        "model = Sequential()\n",
        "model.add(GaussianNoise(70, input_shape=(28, 28, 1)))\n",
        "\n",
        "model.add(Conv2D(filters=64, kernel_size=(3,3), activation='relu', padding='same', input_shape=(28, 28, 1)))\n",
        "model.add(BatchNormalization())\n",
        "model.add(MaxPooling2D(pool_size=(2,2), strides = 2))\n",
        "\n",
        "model.add(Conv2D(filters=128, kernel_size=(3,3), activation='relu', padding='same'))\n",
        "\n",
        "model.add(Conv2D(filters=256, kernel_size=(3,3), activation='relu', padding='same'))\n",
        "model.add(MaxPooling2D(pool_size=(2,2), strides = 2))\n",
        "\n",
        "model.add(Conv2D(filters=512, kernel_size=(3,3), activation='relu'))\n",
        "model.add(Conv2D(filters=512, kernel_size=(3,3), activation='relu'))\n",
        "\n",
        "model.add(Flatten())\n",
        "model.add(Dense(1024, activation='relu'))\n",
        "model.add(Dense(512, activation='relu'))\n",
        "model.add(Dense(512, activation='relu'))\n",
        "model.add(Dense(10, activation='softmax'))\n",
        "\n",
        "model.compile(optimizer=SGD(lr=0.01, momentum=0.9), loss='categorical_crossentropy', metrics=[Recall(), Precision()])"
      ],
      "execution_count": 104,
      "outputs": []
    },
    {
      "cell_type": "code",
      "metadata": {
        "id": "t6XJbhyNiQ-W",
        "outputId": "15e1e6de-3807-4ec3-e479-ab1c0ef0d9e3",
        "colab": {
          "base_uri": "https://localhost:8080/",
          "height": 1000
        }
      },
      "source": [
        "# train the model\n",
        "# model.fit(x, to_categorical(y), validation_split=0.15)\n",
        "model.fit(\n",
        "    generator.flow(x, to_categorical(y), batch_size = 128),\n",
        "    validation_data = generator.flow(x, to_categorical(y), batch_size = 128, subset = 'validation'),\n",
        "    steps_per_epoch = len(x) / 128,\n",
        "    epochs = 50\n",
        ")"
      ],
      "execution_count": 105,
      "outputs": [
        {
          "output_type": "stream",
          "text": [
            "Epoch 1/50\n",
            "547/546 [==============================] - 39s 72ms/step - loss: 1.5038 - recall_3: 0.3069 - precision_3: 0.8109 - val_loss: 0.7579 - val_recall_3: 0.6130 - val_precision_3: 0.9258\n",
            "Epoch 2/50\n",
            "547/546 [==============================] - 39s 70ms/step - loss: 1.0975 - recall_3: 0.5064 - precision_3: 0.8600 - val_loss: 0.5891 - val_recall_3: 0.7064 - val_precision_3: 0.9669\n",
            "Epoch 3/50\n",
            "547/546 [==============================] - 39s 71ms/step - loss: 1.0311 - recall_3: 0.5405 - precision_3: 0.8772 - val_loss: 0.5998 - val_recall_3: 0.7039 - val_precision_3: 0.9715\n",
            "Epoch 4/50\n",
            "547/546 [==============================] - 38s 70ms/step - loss: 0.9989 - recall_3: 0.5549 - precision_3: 0.8846 - val_loss: 0.5664 - val_recall_3: 0.7249 - val_precision_3: 0.9730\n",
            "Epoch 5/50\n",
            "547/546 [==============================] - 39s 71ms/step - loss: 0.9789 - recall_3: 0.5667 - precision_3: 0.8892 - val_loss: 0.5406 - val_recall_3: 0.7449 - val_precision_3: 0.9777\n",
            "Epoch 6/50\n",
            "547/546 [==============================] - 39s 71ms/step - loss: 0.9557 - recall_3: 0.5750 - precision_3: 0.8923 - val_loss: 0.5668 - val_recall_3: 0.7270 - val_precision_3: 0.9795\n",
            "Epoch 7/50\n",
            "547/546 [==============================] - 39s 71ms/step - loss: 0.9464 - recall_3: 0.5807 - precision_3: 0.8933 - val_loss: 0.5490 - val_recall_3: 0.7383 - val_precision_3: 0.9801\n",
            "Epoch 8/50\n",
            "547/546 [==============================] - 39s 71ms/step - loss: 0.9375 - recall_3: 0.5843 - precision_3: 0.8968 - val_loss: 0.5660 - val_recall_3: 0.7349 - val_precision_3: 0.9813\n",
            "Epoch 9/50\n",
            "547/546 [==============================] - 39s 71ms/step - loss: 0.9368 - recall_3: 0.5840 - precision_3: 0.8974 - val_loss: 0.5909 - val_recall_3: 0.7220 - val_precision_3: 0.9790\n",
            "Epoch 10/50\n",
            "547/546 [==============================] - 38s 70ms/step - loss: 0.9161 - recall_3: 0.5927 - precision_3: 0.8982 - val_loss: 0.6013 - val_recall_3: 0.7142 - val_precision_3: 0.9850\n",
            "Epoch 11/50\n",
            "547/546 [==============================] - 39s 70ms/step - loss: 0.9256 - recall_3: 0.5886 - precision_3: 0.9018 - val_loss: 0.5715 - val_recall_3: 0.7329 - val_precision_3: 0.9840\n",
            "Epoch 12/50\n",
            "547/546 [==============================] - 38s 70ms/step - loss: 0.9136 - recall_3: 0.5951 - precision_3: 0.9019 - val_loss: 0.6235 - val_recall_3: 0.7126 - val_precision_3: 0.9819\n",
            "Epoch 13/50\n",
            "547/546 [==============================] - 38s 70ms/step - loss: 0.9081 - recall_3: 0.5958 - precision_3: 0.9002 - val_loss: 0.5982 - val_recall_3: 0.7210 - val_precision_3: 0.9849\n",
            "Epoch 14/50\n",
            "547/546 [==============================] - 39s 71ms/step - loss: 0.9114 - recall_3: 0.5960 - precision_3: 0.9037 - val_loss: 0.6282 - val_recall_3: 0.7063 - val_precision_3: 0.9824\n",
            "Epoch 15/50\n",
            "547/546 [==============================] - 38s 70ms/step - loss: 0.9069 - recall_3: 0.5985 - precision_3: 0.9045 - val_loss: 0.6495 - val_recall_3: 0.6994 - val_precision_3: 0.9854\n",
            "Epoch 16/50\n",
            "547/546 [==============================] - 38s 70ms/step - loss: 0.8953 - recall_3: 0.6009 - precision_3: 0.9055 - val_loss: 0.6549 - val_recall_3: 0.6991 - val_precision_3: 0.9802\n",
            "Epoch 17/50\n",
            "547/546 [==============================] - 38s 70ms/step - loss: 0.8960 - recall_3: 0.6022 - precision_3: 0.9069 - val_loss: 0.6688 - val_recall_3: 0.6881 - val_precision_3: 0.9850\n",
            "Epoch 18/50\n",
            "547/546 [==============================] - 38s 70ms/step - loss: 0.8937 - recall_3: 0.6040 - precision_3: 0.9058 - val_loss: 0.6853 - val_recall_3: 0.6803 - val_precision_3: 0.9858\n",
            "Epoch 19/50\n",
            "547/546 [==============================] - 39s 70ms/step - loss: 0.8842 - recall_3: 0.6070 - precision_3: 0.9061 - val_loss: 0.6619 - val_recall_3: 0.6921 - val_precision_3: 0.9819\n",
            "Epoch 20/50\n",
            "547/546 [==============================] - 38s 70ms/step - loss: 0.8824 - recall_3: 0.6069 - precision_3: 0.9060 - val_loss: 0.6906 - val_recall_3: 0.6775 - val_precision_3: 0.9864\n",
            "Epoch 21/50\n",
            "547/546 [==============================] - 38s 70ms/step - loss: 0.8908 - recall_3: 0.6038 - precision_3: 0.9073 - val_loss: 0.7056 - val_recall_3: 0.6675 - val_precision_3: 0.9848\n",
            "Epoch 22/50\n",
            "547/546 [==============================] - 39s 71ms/step - loss: 0.8890 - recall_3: 0.6042 - precision_3: 0.9087 - val_loss: 0.7028 - val_recall_3: 0.6705 - val_precision_3: 0.9832\n",
            "Epoch 23/50\n",
            "547/546 [==============================] - 38s 70ms/step - loss: 0.8860 - recall_3: 0.6056 - precision_3: 0.9089 - val_loss: 0.7372 - val_recall_3: 0.6568 - val_precision_3: 0.9847\n",
            "Epoch 24/50\n",
            "547/546 [==============================] - 38s 70ms/step - loss: 0.8757 - recall_3: 0.6103 - precision_3: 0.9090 - val_loss: 0.7122 - val_recall_3: 0.6682 - val_precision_3: 0.9846\n",
            "Epoch 25/50\n",
            "547/546 [==============================] - 38s 70ms/step - loss: 0.8780 - recall_3: 0.6085 - precision_3: 0.9083 - val_loss: 0.7647 - val_recall_3: 0.6455 - val_precision_3: 0.9856\n",
            "Epoch 26/50\n",
            "547/546 [==============================] - 38s 69ms/step - loss: 0.8791 - recall_3: 0.6091 - precision_3: 0.9110 - val_loss: 0.7793 - val_recall_3: 0.6350 - val_precision_3: 0.9852\n",
            "Epoch 27/50\n",
            "547/546 [==============================] - 38s 69ms/step - loss: 0.8764 - recall_3: 0.6096 - precision_3: 0.9099 - val_loss: 0.7761 - val_recall_3: 0.6329 - val_precision_3: 0.9856\n",
            "Epoch 28/50\n",
            "547/546 [==============================] - 38s 69ms/step - loss: 0.8703 - recall_3: 0.6121 - precision_3: 0.9108 - val_loss: 0.7968 - val_recall_3: 0.6291 - val_precision_3: 0.9826\n",
            "Epoch 29/50\n",
            "547/546 [==============================] - 38s 69ms/step - loss: 0.8750 - recall_3: 0.6086 - precision_3: 0.9099 - val_loss: 0.7627 - val_recall_3: 0.6432 - val_precision_3: 0.9853\n",
            "Epoch 30/50\n",
            "547/546 [==============================] - 38s 70ms/step - loss: 0.8644 - recall_3: 0.6143 - precision_3: 0.9104 - val_loss: 0.7646 - val_recall_3: 0.6427 - val_precision_3: 0.9827\n",
            "Epoch 31/50\n",
            "547/546 [==============================] - 38s 69ms/step - loss: 0.8704 - recall_3: 0.6138 - precision_3: 0.9115 - val_loss: 0.7967 - val_recall_3: 0.6296 - val_precision_3: 0.9844\n",
            "Epoch 32/50\n",
            "547/546 [==============================] - 38s 69ms/step - loss: 0.8658 - recall_3: 0.6136 - precision_3: 0.9109 - val_loss: 0.8109 - val_recall_3: 0.6212 - val_precision_3: 0.9846\n",
            "Epoch 33/50\n",
            "547/546 [==============================] - 38s 69ms/step - loss: 0.8604 - recall_3: 0.6169 - precision_3: 0.9121 - val_loss: 0.8042 - val_recall_3: 0.6249 - val_precision_3: 0.9875\n",
            "Epoch 34/50\n",
            "547/546 [==============================] - 38s 69ms/step - loss: 0.8680 - recall_3: 0.6135 - precision_3: 0.9116 - val_loss: 0.7931 - val_recall_3: 0.6274 - val_precision_3: 0.9855\n",
            "Epoch 35/50\n",
            "547/546 [==============================] - 37s 68ms/step - loss: 0.8689 - recall_3: 0.6129 - precision_3: 0.9117 - val_loss: 0.7859 - val_recall_3: 0.6324 - val_precision_3: 0.9863\n",
            "Epoch 36/50\n",
            "547/546 [==============================] - 37s 68ms/step - loss: 0.8601 - recall_3: 0.6163 - precision_3: 0.9128 - val_loss: 0.7833 - val_recall_3: 0.6312 - val_precision_3: 0.9835\n",
            "Epoch 37/50\n",
            "547/546 [==============================] - 37s 68ms/step - loss: 0.8614 - recall_3: 0.6161 - precision_3: 0.9120 - val_loss: 0.8220 - val_recall_3: 0.6130 - val_precision_3: 0.9865\n",
            "Epoch 38/50\n",
            "547/546 [==============================] - 38s 69ms/step - loss: 0.8599 - recall_3: 0.6161 - precision_3: 0.9114 - val_loss: 0.8359 - val_recall_3: 0.6049 - val_precision_3: 0.9847\n",
            "Epoch 39/50\n",
            "547/546 [==============================] - 38s 70ms/step - loss: 0.8576 - recall_3: 0.6160 - precision_3: 0.9118 - val_loss: 0.8216 - val_recall_3: 0.6111 - val_precision_3: 0.9888\n",
            "Epoch 40/50\n",
            "547/546 [==============================] - 38s 70ms/step - loss: 0.8655 - recall_3: 0.6151 - precision_3: 0.9122 - val_loss: 0.8295 - val_recall_3: 0.6061 - val_precision_3: 0.9862\n",
            "Epoch 41/50\n",
            "547/546 [==============================] - 38s 70ms/step - loss: 0.8623 - recall_3: 0.6157 - precision_3: 0.9126 - val_loss: 0.8552 - val_recall_3: 0.5956 - val_precision_3: 0.9872\n",
            "Epoch 42/50\n",
            "547/546 [==============================] - 38s 69ms/step - loss: 0.8554 - recall_3: 0.6183 - precision_3: 0.9120 - val_loss: 0.8334 - val_recall_3: 0.6069 - val_precision_3: 0.9873\n",
            "Epoch 43/50\n",
            "547/546 [==============================] - 38s 69ms/step - loss: 0.8602 - recall_3: 0.6157 - precision_3: 0.9146 - val_loss: 0.8468 - val_recall_3: 0.5985 - val_precision_3: 0.9868\n",
            "Epoch 44/50\n",
            "547/546 [==============================] - 38s 69ms/step - loss: 0.8590 - recall_3: 0.6168 - precision_3: 0.9138 - val_loss: 0.8525 - val_recall_3: 0.5937 - val_precision_3: 0.9856\n",
            "Epoch 45/50\n",
            "547/546 [==============================] - 38s 69ms/step - loss: 0.8604 - recall_3: 0.6165 - precision_3: 0.9135 - val_loss: 0.8677 - val_recall_3: 0.5902 - val_precision_3: 0.9866\n",
            "Epoch 46/50\n",
            "547/546 [==============================] - 38s 69ms/step - loss: 0.8553 - recall_3: 0.6178 - precision_3: 0.9145 - val_loss: 0.8269 - val_recall_3: 0.6074 - val_precision_3: 0.9896\n",
            "Epoch 47/50\n",
            "547/546 [==============================] - 38s 70ms/step - loss: 0.8605 - recall_3: 0.6165 - precision_3: 0.9145 - val_loss: 0.9005 - val_recall_3: 0.5764 - val_precision_3: 0.9905\n",
            "Epoch 48/50\n",
            "547/546 [==============================] - 38s 69ms/step - loss: 0.8559 - recall_3: 0.6183 - precision_3: 0.9156 - val_loss: 0.8377 - val_recall_3: 0.5985 - val_precision_3: 0.9865\n",
            "Epoch 49/50\n",
            "547/546 [==============================] - 38s 69ms/step - loss: 0.8505 - recall_3: 0.6223 - precision_3: 0.9158 - val_loss: 0.8168 - val_recall_3: 0.6112 - val_precision_3: 0.9848\n",
            "Epoch 50/50\n",
            "547/546 [==============================] - 38s 69ms/step - loss: 0.8535 - recall_3: 0.6186 - precision_3: 0.9127 - val_loss: 0.8730 - val_recall_3: 0.5909 - val_precision_3: 0.9873\n"
          ],
          "name": "stdout"
        },
        {
          "output_type": "execute_result",
          "data": {
            "text/plain": [
              "<tensorflow.python.keras.callbacks.History at 0x7efc30794f60>"
            ]
          },
          "metadata": {
            "tags": []
          },
          "execution_count": 105
        }
      ]
    },
    {
      "cell_type": "markdown",
      "metadata": {
        "id": "avhD_RgJl9uX"
      },
      "source": [
        "## Save the model"
      ]
    },
    {
      "cell_type": "code",
      "metadata": {
        "id": "BrBUsInXiVxl",
        "outputId": "fb5fb3ec-e311-430c-fb6a-ab36be04f1fb",
        "colab": {
          "base_uri": "https://localhost:8080/",
          "height": 33
        }
      },
      "source": [
        "# save the model\n",
        "model.save('model.h5')\n",
        "zipfile.ZipFile('model.h5.zip', mode='w').write(\"model.h5\")\n",
        "print(os.path.getsize(\"/content/model.h5.zip\") / (1024*1024))\n",
        "files.download('model.h5.zip') "
      ],
      "execution_count": 106,
      "outputs": [
        {
          "output_type": "stream",
          "text": [
            "71.96638679504395\n"
          ],
          "name": "stdout"
        },
        {
          "output_type": "display_data",
          "data": {
            "application/javascript": [
              "\n",
              "    async function download(id, filename, size) {\n",
              "      if (!google.colab.kernel.accessAllowed) {\n",
              "        return;\n",
              "      }\n",
              "      const div = document.createElement('div');\n",
              "      const label = document.createElement('label');\n",
              "      label.textContent = `Downloading \"${filename}\": `;\n",
              "      div.appendChild(label);\n",
              "      const progress = document.createElement('progress');\n",
              "      progress.max = size;\n",
              "      div.appendChild(progress);\n",
              "      document.body.appendChild(div);\n",
              "\n",
              "      const buffers = [];\n",
              "      let downloaded = 0;\n",
              "\n",
              "      const channel = await google.colab.kernel.comms.open(id);\n",
              "      // Send a message to notify the kernel that we're ready.\n",
              "      channel.send({})\n",
              "\n",
              "      for await (const message of channel.messages) {\n",
              "        // Send a message to notify the kernel that we're ready.\n",
              "        channel.send({})\n",
              "        if (message.buffers) {\n",
              "          for (const buffer of message.buffers) {\n",
              "            buffers.push(buffer);\n",
              "            downloaded += buffer.byteLength;\n",
              "            progress.value = downloaded;\n",
              "          }\n",
              "        }\n",
              "      }\n",
              "      const blob = new Blob(buffers, {type: 'application/binary'});\n",
              "      const a = document.createElement('a');\n",
              "      a.href = window.URL.createObjectURL(blob);\n",
              "      a.download = filename;\n",
              "      div.appendChild(a);\n",
              "      a.click();\n",
              "      div.remove();\n",
              "    }\n",
              "  "
            ],
            "text/plain": [
              "<IPython.core.display.Javascript object>"
            ]
          },
          "metadata": {
            "tags": []
          }
        },
        {
          "output_type": "display_data",
          "data": {
            "application/javascript": [
              "download(\"download_f7388546-5974-4f70-91de-95b912383381\", \"model.h5.zip\", 75462226)"
            ],
            "text/plain": [
              "<IPython.core.display.Javascript object>"
            ]
          },
          "metadata": {
            "tags": []
          }
        }
      ]
    },
    {
      "cell_type": "markdown",
      "metadata": {
        "id": "ZdzC1J6AlzXq"
      },
      "source": [
        "## Evaluation"
      ]
    },
    {
      "cell_type": "code",
      "metadata": {
        "id": "BTSuo3Wjk0jp"
      },
      "source": [
        "# make the prediction\n",
        "y_pred = model.predict(x)"
      ],
      "execution_count": 107,
      "outputs": []
    },
    {
      "cell_type": "code",
      "metadata": {
        "id": "3bgJC_aa5Wmr"
      },
      "source": [
        "# transform prediction to labels\n",
        "y_pred_labels = np.argmax(y_pred, axis=1).astype(np.uint8)"
      ],
      "execution_count": 108,
      "outputs": []
    },
    {
      "cell_type": "code",
      "metadata": {
        "id": "c4wH0P3ciaLQ",
        "outputId": "53753fa8-d7a8-4e80-8347-23cd748a3d17",
        "colab": {
          "base_uri": "https://localhost:8080/",
          "height": 67
        }
      },
      "source": [
        "# evaluate performance of the model\n",
        "tf.print(f1_score(y_pred_labels, y, average='micro'))\n",
        "tf.print(f1_score(y_pred_labels, y, average='macro'))\n",
        "tf.print(f1_score(y_pred_labels, y, average='weighted'))"
      ],
      "execution_count": 109,
      "outputs": [
        {
          "output_type": "stream",
          "text": [
            "0.9916571428571429\n",
            "0.991691406179747\n",
            "0.9916571663534385\n"
          ],
          "name": "stdout"
        }
      ]
    }
  ]
}