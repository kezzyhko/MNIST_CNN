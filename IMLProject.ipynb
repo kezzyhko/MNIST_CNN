{
  "nbformat": 4,
  "nbformat_minor": 0,
  "metadata": {
    "colab": {
      "name": "IMLProject",
      "provenance": [],
      "collapsed_sections": [],
      "toc_visible": true
    },
    "kernelspec": {
      "name": "python3",
      "display_name": "Python 3"
    },
    "accelerator": "GPU"
  },
  "cells": [
    {
      "cell_type": "markdown",
      "metadata": {
        "id": "lohPUbbI2eUp"
      },
      "source": [
        "# Preparing\n",
        "Run once when disconnected"
      ]
    },
    {
      "cell_type": "code",
      "metadata": {
        "id": "aBg1WuyjgG9R"
      },
      "source": [
        "# imports\n",
        "import numpy as np\n",
        "import pandas as pd\n",
        "from tensorflow.keras.models import Sequential\n",
        "from tensorflow.keras.layers import Dense, Dropout, Flatten, Conv2D, MaxPooling2D, GaussianNoise, BatchNormalization\n",
        "from tensorflow.keras.metrics import Recall, Precision\n",
        "from tensorflow.keras.optimizers import SGD\n",
        "from tensorflow.keras.preprocessing.image import ImageDataGenerator\n",
        "from tensorflow.keras.utils import to_categorical\n",
        "import tensorflow as tf\n",
        "import zipfile\n",
        "from sklearn.metrics import f1_score\n",
        "import os\n",
        "from google.colab import files\n",
        "import matplotlib.pyplot as plt"
      ],
      "execution_count": 1,
      "outputs": []
    },
    {
      "cell_type": "code",
      "metadata": {
        "id": "DVkWTWOngbQJ"
      },
      "source": [
        "# # download the dataset\n",
        "# if (not os.path.isfile('x.npy')):\n",
        "#     !wget -q https://gist.github.com/kezzyhko/74136f15acb0ac57e64a761176776ab0/raw/x.npy\n",
        "# if (not os.path.isfile('y.npy')):\n",
        "#     !wget -q https://gist.github.com/kezzyhko/74136f15acb0ac57e64a761176776ab0/raw/y.npy"
      ],
      "execution_count": 2,
      "outputs": []
    },
    {
      "cell_type": "code",
      "metadata": {
        "id": "sYjwZxnEiHQo",
        "outputId": "ad289c4b-125a-4a48-f375-ea9a7a2c279f",
        "colab": {
          "base_uri": "https://localhost:8080/",
          "height": 84
        }
      },
      "source": [
        "# load the dataset\n",
        "\n",
        "(mnist_X_train, mnist_y_train), (mnist_X_test, mnist_y_test) = tf.keras.datasets.mnist.load_data()\n",
        "mnist_X_train = mnist_X_train.reshape((60000, 28, 28, 1))\n",
        "mnist_X_test = mnist_X_test.reshape((10000, 28, 28, 1))\n",
        "\n",
        "x = np.concatenate((mnist_X_train, mnist_X_test), axis=0)\n",
        "y = np.concatenate((mnist_y_train, mnist_y_test), axis=0)\n",
        "\n",
        "print(x.shape)\n",
        "print(y.shape)"
      ],
      "execution_count": 3,
      "outputs": [
        {
          "output_type": "stream",
          "text": [
            "Downloading data from https://storage.googleapis.com/tensorflow/tf-keras-datasets/mnist.npz\n",
            "11493376/11490434 [==============================] - 0s 0us/step\n",
            "(70000, 28, 28, 1)\n",
            "(70000,)\n"
          ],
          "name": "stdout"
        }
      ]
    },
    {
      "cell_type": "markdown",
      "metadata": {
        "id": "w-qdGb6vg0-h"
      },
      "source": [
        "# Data augmentation"
      ]
    },
    {
      "cell_type": "code",
      "metadata": {
        "id": "-VCe3NTZ7PI7"
      },
      "source": [
        "# # plt.imshow(x[0].reshape(28, 28)/255., cmap='Greys')\n",
        "# g = GaussianNoise(70)\n",
        "# x = g(x.astype('float32'), training=True)\n",
        "# plt.imshow(tf.reshape(x[0], (28, 28))/255., cmap='Greys')"
      ],
      "execution_count": 4,
      "outputs": []
    },
    {
      "cell_type": "code",
      "metadata": {
        "id": "UI6WPOsHg8dJ"
      },
      "source": [
        "generator = ImageDataGenerator(\n",
        "    rotation_range = 20,\n",
        "    width_shift_range = 0.2,\n",
        "    height_shift_range = 0.1,\n",
        "    zoom_range = (0.9, 2),\n",
        "    shear_range = 10,\n",
        "    fill_mode = 'nearest',\n",
        "    validation_split = 0.15\n",
        ")"
      ],
      "execution_count": 5,
      "outputs": []
    },
    {
      "cell_type": "code",
      "metadata": {
        "id": "WJG9W7iv0Y6S",
        "outputId": "852ddf81-8524-4b14-e2f3-20454fe513bb",
        "colab": {
          "base_uri": "https://localhost:8080/",
          "height": 1000
        }
      },
      "source": [
        "plt.figure(figsize=(10,10))\n",
        "for i in range(25):\n",
        "    plt.subplot(5,5,i+1)\n",
        "    plt.xticks([])\n",
        "    plt.yticks([])\n",
        "    plt.grid(False)\n",
        "    plt.imshow(tf.reshape(x[i], (28, 28)), cmap=plt.cm.binary)\n",
        "    plt.xlabel(y[i])\n",
        "plt.show()\n",
        "\n",
        "print('---')\n",
        "\n",
        "for x1, y1 in generator.flow(x, y, batch_size = 25):\n",
        "   plt.figure(figsize=(10,10))\n",
        "   for i in range(25):\n",
        "       plt.subplot(5,5,i+1)\n",
        "       plt.xticks([])\n",
        "       plt.yticks([])\n",
        "       plt.grid(False)\n",
        "       plt.imshow(x1[i].reshape(28, 28), cmap=plt.cm.binary)\n",
        "       plt.xlabel(y1[i])\n",
        "   plt.show()\n",
        "   break"
      ],
      "execution_count": 13,
      "outputs": [
        {
          "output_type": "display_data",
          "data": {
            "image/png": "[encoded data removed]",
            "text/plain": [
              "<Figure size 720x720 with 25 Axes>"
            ]
          },
          "metadata": {
            "tags": []
          }
        },
        {
          "output_type": "stream",
          "text": [
            "---\n"
          ],
          "name": "stdout"
        },
        {
          "output_type": "display_data",
          "data": {
            "image/png": "[encoded data removed]",
            "text/plain": [
              "<Figure size 720x720 with 25 Axes>"
            ]
          },
          "metadata": {
            "tags": []
          }
        }
      ]
    },
    {
      "cell_type": "markdown",
      "metadata": {
        "id": "aJS7VPzy2ikc"
      },
      "source": [
        "# The model"
      ]
    },
    {
      "cell_type": "markdown",
      "metadata": {
        "id": "XFEW_1RzmFEd"
      },
      "source": [
        "## Make the model"
      ]
    },
    {
      "cell_type": "code",
      "metadata": {
        "id": "FtDWSWYUgcgx"
      },
      "source": [
        "# create the model\n",
        "\n",
        "model = Sequential()\n",
        "model.add(GaussianNoise(70, input_shape=(28, 28, 1)))\n",
        "\n",
        "model.add(Conv2D(filters=64, kernel_size=(3,3), activation='relu', padding='same', input_shape=(28, 28, 1)))\n",
        "model.add(BatchNormalization())\n",
        "model.add(MaxPooling2D(pool_size=(2,2), strides = 2))\n",
        "\n",
        "model.add(Conv2D(filters=128, kernel_size=(3,3), activation='relu', padding='same'))\n",
        "\n",
        "model.add(Conv2D(filters=256, kernel_size=(3,3), activation='relu', padding='same'))\n",
        "model.add(MaxPooling2D(pool_size=(2,2), strides = 2))\n",
        "\n",
        "model.add(Conv2D(filters=512, kernel_size=(3,3), activation='relu'))\n",
        "model.add(Conv2D(filters=512, kernel_size=(3,3), activation='relu'))\n",
        "\n",
        "model.add(Flatten())\n",
        "model.add(Dense(1024, activation='relu'))\n",
        "model.add(Dense(512, activation='relu'))\n",
        "model.add(Dense(512, activation='relu'))\n",
        "model.add(Dense(10, activation='softmax'))\n",
        "\n",
        "model.compile(optimizer=SGD(lr=0.01, momentum=0.9), loss='categorical_crossentropy', metrics=[Recall(), Precision()])"
      ],
      "execution_count": 7,
      "outputs": []
    },
    {
      "cell_type": "code",
      "metadata": {
        "id": "t6XJbhyNiQ-W",
        "outputId": "87ca3e80-b3fa-40e4-d198-8359540ab74b",
        "colab": {
          "base_uri": "https://localhost:8080/",
          "height": 555
        }
      },
      "source": [
        "# train the model\n",
        "# model.fit(x, to_categorical(y), validation_split=0.15)\n",
        "model.fit(\n",
        "    generator.flow(x, to_categorical(y), batch_size = 128),\n",
        "    validation_data = generator.flow(x, to_categorical(y), batch_size = 128, subset = 'validation'),\n",
        "    steps_per_epoch = len(x) / 128,\n",
        "    epochs = 15\n",
        ")"
      ],
      "execution_count": 8,
      "outputs": [
        {
          "output_type": "stream",
          "text": [
            "Epoch 1/15\n",
            "547/546 [==============================] - 23s 41ms/step - loss: 0.6748 - recall: 0.7025 - precision: 0.8891 - val_loss: 0.2380 - val_recall: 0.9204 - val_precision: 0.9421\n",
            "Epoch 2/15\n",
            "547/546 [==============================] - 22s 41ms/step - loss: 0.2234 - recall: 0.9163 - precision: 0.9432 - val_loss: 0.1144 - val_recall: 0.9607 - val_precision: 0.9725\n",
            "Epoch 3/15\n",
            "547/546 [==============================] - 23s 42ms/step - loss: 0.1772 - recall: 0.9341 - precision: 0.9544 - val_loss: 0.1068 - val_recall: 0.9632 - val_precision: 0.9720\n",
            "Epoch 4/15\n",
            "547/546 [==============================] - 23s 42ms/step - loss: 0.1556 - recall: 0.9431 - precision: 0.9594 - val_loss: 0.0833 - val_recall: 0.9713 - val_precision: 0.9791\n",
            "Epoch 5/15\n",
            "547/546 [==============================] - 23s 42ms/step - loss: 0.1351 - recall: 0.9511 - precision: 0.9646 - val_loss: 0.0757 - val_recall: 0.9739 - val_precision: 0.9803\n",
            "Epoch 6/15\n",
            "547/546 [==============================] - 23s 42ms/step - loss: 0.1253 - recall: 0.9548 - precision: 0.9662 - val_loss: 0.0755 - val_recall: 0.9739 - val_precision: 0.9799\n",
            "Epoch 7/15\n",
            "547/546 [==============================] - 23s 42ms/step - loss: 0.1185 - recall: 0.9575 - precision: 0.9684 - val_loss: 0.0653 - val_recall: 0.9772 - val_precision: 0.9835\n",
            "Epoch 8/15\n",
            "547/546 [==============================] - 22s 41ms/step - loss: 0.1116 - recall: 0.9589 - precision: 0.9693 - val_loss: 0.0507 - val_recall: 0.9823 - val_precision: 0.9876\n",
            "Epoch 9/15\n",
            "547/546 [==============================] - 22s 40ms/step - loss: 0.1058 - recall: 0.9622 - precision: 0.9713 - val_loss: 0.0568 - val_recall: 0.9800 - val_precision: 0.9861\n",
            "Epoch 10/15\n",
            "547/546 [==============================] - 22s 40ms/step - loss: 0.1036 - recall: 0.9629 - precision: 0.9722 - val_loss: 0.0735 - val_recall: 0.9742 - val_precision: 0.9831\n",
            "Epoch 11/15\n",
            "547/546 [==============================] - 22s 39ms/step - loss: 0.0984 - recall: 0.9653 - precision: 0.9738 - val_loss: 0.0493 - val_recall: 0.9825 - val_precision: 0.9887\n",
            "Epoch 12/15\n",
            "547/546 [==============================] - 22s 40ms/step - loss: 0.0986 - recall: 0.9648 - precision: 0.9736 - val_loss: 0.0516 - val_recall: 0.9826 - val_precision: 0.9882\n",
            "Epoch 13/15\n",
            "547/546 [==============================] - 22s 40ms/step - loss: 0.0949 - recall: 0.9661 - precision: 0.9743 - val_loss: 0.0597 - val_recall: 0.9797 - val_precision: 0.9856\n",
            "Epoch 14/15\n",
            "547/546 [==============================] - 22s 40ms/step - loss: 0.0908 - recall: 0.9677 - precision: 0.9751 - val_loss: 0.0506 - val_recall: 0.9827 - val_precision: 0.9887\n",
            "Epoch 15/15\n",
            "547/546 [==============================] - 22s 41ms/step - loss: 0.0890 - recall: 0.9683 - precision: 0.9758 - val_loss: 0.0517 - val_recall: 0.9813 - val_precision: 0.9891\n"
          ],
          "name": "stdout"
        },
        {
          "output_type": "execute_result",
          "data": {
            "text/plain": [
              "<tensorflow.python.keras.callbacks.History at 0x7fb11a379550>"
            ]
          },
          "metadata": {
            "tags": []
          },
          "execution_count": 8
        }
      ]
    },
    {
      "cell_type": "markdown",
      "metadata": {
        "id": "avhD_RgJl9uX"
      },
      "source": [
        "## Save the model"
      ]
    },
    {
      "cell_type": "code",
      "metadata": {
        "id": "BrBUsInXiVxl",
        "outputId": "7accfaa7-aacc-4e03-b813-cdd6b7d83ece",
        "colab": {
          "base_uri": "https://localhost:8080/",
          "height": 50
        }
      },
      "source": [
        "# save the model\n",
        "model.save('model.h5')\n",
        "zipfile.ZipFile('model.h5.zip', mode='w').write(\"model.h5\")\n",
        "print(os.path.getsize(\"/content/model.h5.zip\") / (1024*1024))\n",
        "files.download('model.h5.zip') "
      ],
      "execution_count": 9,
      "outputs": [
        {
          "output_type": "stream",
          "text": [
            "71.96558570861816\n"
          ],
          "name": "stdout"
        },
        {
          "output_type": "display_data",
          "data": {
            "application/javascript": [
              "\n",
              "    async function download(id, filename, size) {\n",
              "      if (!google.colab.kernel.accessAllowed) {\n",
              "        return;\n",
              "      }\n",
              "      const div = document.createElement('div');\n",
              "      const label = document.createElement('label');\n",
              "      label.textContent = `Downloading \"${filename}\": `;\n",
              "      div.appendChild(label);\n",
              "      const progress = document.createElement('progress');\n",
              "      progress.max = size;\n",
              "      div.appendChild(progress);\n",
              "      document.body.appendChild(div);\n",
              "\n",
              "      const buffers = [];\n",
              "      let downloaded = 0;\n",
              "\n",
              "      const channel = await google.colab.kernel.comms.open(id);\n",
              "      // Send a message to notify the kernel that we're ready.\n",
              "      channel.send({})\n",
              "\n",
              "      for await (const message of channel.messages) {\n",
              "        // Send a message to notify the kernel that we're ready.\n",
              "        channel.send({})\n",
              "        if (message.buffers) {\n",
              "          for (const buffer of message.buffers) {\n",
              "            buffers.push(buffer);\n",
              "            downloaded += buffer.byteLength;\n",
              "            progress.value = downloaded;\n",
              "          }\n",
              "        }\n",
              "      }\n",
              "      const blob = new Blob(buffers, {type: 'application/binary'});\n",
              "      const a = document.createElement('a');\n",
              "      a.href = window.URL.createObjectURL(blob);\n",
              "      a.download = filename;\n",
              "      div.appendChild(a);\n",
              "      a.click();\n",
              "      div.remove();\n",
              "    }\n",
              "  "
            ],
            "text/plain": [
              "<IPython.core.display.Javascript object>"
            ]
          },
          "metadata": {
            "tags": []
          }
        },
        {
          "output_type": "display_data",
          "data": {
            "application/javascript": [
              "download(\"download_a93b2eb1-73e9-44ee-adcc-31c1054d6192\", \"model.h5.zip\", 75461386)"
            ],
            "text/plain": [
              "<IPython.core.display.Javascript object>"
            ]
          },
          "metadata": {
            "tags": []
          }
        }
      ]
    },
    {
      "cell_type": "markdown",
      "metadata": {
        "id": "ZdzC1J6AlzXq"
      },
      "source": [
        "## Evaluation"
      ]
    },
    {
      "cell_type": "code",
      "metadata": {
        "id": "BTSuo3Wjk0jp"
      },
      "source": [
        "# make the prediction\n",
        "y_pred = model.predict(x)"
      ],
      "execution_count": 10,
      "outputs": []
    },
    {
      "cell_type": "code",
      "metadata": {
        "id": "3bgJC_aa5Wmr"
      },
      "source": [
        "# transform prediction to labels\n",
        "y_pred_labels = np.argmax(y_pred, axis=1).astype(np.uint8)"
      ],
      "execution_count": 11,
      "outputs": []
    },
    {
      "cell_type": "code",
      "metadata": {
        "id": "c4wH0P3ciaLQ",
        "outputId": "4464bd5f-ae24-4541-f788-c536bfea95cf",
        "colab": {
          "base_uri": "https://localhost:8080/",
          "height": 67
        }
      },
      "source": [
        "# evaluate performance of the model\n",
        "tf.print(f1_score(y_pred_labels, y, average='micro'))\n",
        "tf.print(f1_score(y_pred_labels, y, average='macro'))\n",
        "tf.print(f1_score(y_pred_labels, y, average='weighted'))"
      ],
      "execution_count": 12,
      "outputs": [
        {
          "output_type": "stream",
          "text": [
            "0.9920571428571429\n",
            "0.9920805889753914\n",
            "0.9920597412953542\n"
          ],
          "name": "stdout"
        }
      ]
    }
  ]
}