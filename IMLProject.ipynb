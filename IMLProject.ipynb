{
  "nbformat": 4,
  "nbformat_minor": 0,
  "metadata": {
    "colab": {
      "name": "IMLProject",
      "provenance": [],
      "collapsed_sections": [],
      "toc_visible": true
    },
    "kernelspec": {
      "name": "python3",
      "display_name": "Python 3"
    },
    "accelerator": "GPU"
  },
  "cells": [
    {
      "cell_type": "markdown",
      "metadata": {
        "id": "lohPUbbI2eUp"
      },
      "source": [
        "# Preparing\n",
        "Run once when disconnected"
      ]
    },
    {
      "cell_type": "code",
      "metadata": {
        "id": "aBg1WuyjgG9R"
      },
      "source": [
        "# imports\n",
        "import numpy as np\n",
        "import pandas as pd\n",
        "from tensorflow.keras.models import Sequential\n",
        "from tensorflow.keras.layers import Dense, Dropout, Flatten, Conv2D, MaxPooling2D, GaussianNoise, BatchNormalization\n",
        "from tensorflow.keras.metrics import Recall, Precision\n",
        "from tensorflow.keras.optimizers import SGD\n",
        "from tensorflow.keras.preprocessing.image import ImageDataGenerator\n",
        "from tensorflow.keras.utils import to_categorical\n",
        "import tensorflow as tf\n",
        "import zipfile\n",
        "from sklearn.metrics import f1_score\n",
        "import os\n",
        "from google.colab import files\n",
        "import matplotlib.pyplot as plt"
      ],
      "execution_count": 3,
      "outputs": []
    },
    {
      "cell_type": "code",
      "metadata": {
        "id": "DVkWTWOngbQJ"
      },
      "source": [
        "# # download the dataset\n",
        "# if (not os.path.isfile('x.npy')):\n",
        "#     !wget -q https://gist.github.com/kezzyhko/74136f15acb0ac57e64a761176776ab0/raw/x.npy\n",
        "# if (not os.path.isfile('y.npy')):\n",
        "#     !wget -q https://gist.github.com/kezzyhko/74136f15acb0ac57e64a761176776ab0/raw/y.npy"
      ],
      "execution_count": 4,
      "outputs": []
    },
    {
      "cell_type": "code",
      "metadata": {
        "id": "sYjwZxnEiHQo",
        "outputId": "ae9ebdf9-6cb6-4787-8c09-bcfd1d374322",
        "colab": {
          "base_uri": "https://localhost:8080/",
          "height": 84
        }
      },
      "source": [
        "# load the dataset\n",
        "\n",
        "(mnist_X_train, mnist_y_train), (mnist_X_test, mnist_y_test) = tf.keras.datasets.mnist.load_data()\n",
        "mnist_X_train = mnist_X_train.reshape((60000, 28, 28, 1))\n",
        "mnist_X_test = mnist_X_test.reshape((10000, 28, 28, 1))\n",
        "\n",
        "x = np.concatenate((mnist_X_train, mnist_X_test), axis=0)\n",
        "y = np.concatenate((mnist_y_train, mnist_y_test), axis=0)\n",
        "\n",
        "print(x.shape)\n",
        "print(y.shape)"
      ],
      "execution_count": 5,
      "outputs": [
        {
          "output_type": "stream",
          "text": [
            "Downloading data from https://storage.googleapis.com/tensorflow/tf-keras-datasets/mnist.npz\n",
            "11493376/11490434 [==============================] - 0s 0us/step\n",
            "(70000, 28, 28, 1)\n",
            "(70000,)\n"
          ],
          "name": "stdout"
        }
      ]
    },
    {
      "cell_type": "markdown",
      "metadata": {
        "id": "w-qdGb6vg0-h"
      },
      "source": [
        "# Data augmentation"
      ]
    },
    {
      "cell_type": "code",
      "metadata": {
        "id": "-VCe3NTZ7PI7"
      },
      "source": [
        "# # plt.imshow(x[0].reshape(28, 28)/255., cmap='Greys')\n",
        "# g = GaussianNoise(70)\n",
        "# x = g(x.astype('float32'), training=True)\n",
        "# plt.imshow(tf.reshape(x[0], (28, 28))/255., cmap='Greys')"
      ],
      "execution_count": 6,
      "outputs": []
    },
    {
      "cell_type": "code",
      "metadata": {
        "id": "UI6WPOsHg8dJ"
      },
      "source": [
        "generator = ImageDataGenerator(\n",
        "    rotation_range = 20,\n",
        "    width_shift_range = 0.2,\n",
        "    height_shift_range = 0.1,\n",
        "    zoom_range = (0.9, 2),\n",
        "    shear_range = 10,\n",
        "    fill_mode = 'nearest',\n",
        "    validation_split = 0.15\n",
        ")"
      ],
      "execution_count": 7,
      "outputs": []
    },
    {
      "cell_type": "code",
      "metadata": {
        "id": "WJG9W7iv0Y6S",
        "outputId": "e492fde8-bcf2-4489-b91f-d03abdb3ad27",
        "colab": {
          "base_uri": "https://localhost:8080/",
          "height": 1000
        }
      },
      "source": [
        "plt.figure(figsize=(10,10))\n",
        "for i in range(25):\n",
        "    plt.subplot(5,5,i+1)\n",
        "    plt.xticks([])\n",
        "    plt.yticks([])\n",
        "    plt.grid(False)\n",
        "    plt.imshow(tf.reshape(x[i], (28, 28)), cmap=plt.cm.binary)\n",
        "    plt.xlabel(y[i])\n",
        "plt.show()\n",
        "\n",
        "print('---')\n",
        "\n",
        "for x1, y1 in generator.flow(x, y, batch_size = 25):\n",
        "   plt.figure(figsize=(10,10))\n",
        "   for i in range(25):\n",
        "       plt.subplot(5,5,i+1)\n",
        "       plt.xticks([])\n",
        "       plt.yticks([])\n",
        "       plt.grid(False)\n",
        "       plt.imshow(x1[i].reshape(28, 28), cmap=plt.cm.binary)\n",
        "       plt.xlabel(y1[i])\n",
        "   plt.show()\n",
        "   break"
      ],
      "execution_count": 8,
      "outputs": [
        {
          "output_type": "display_data",
          "data": {
            "image/png": "[encoded data removed]",
            "text/plain": [
              "<Figure size 720x720 with 25 Axes>"
            ]
          },
          "metadata": {
            "tags": []
          }
        },
        {
          "output_type": "stream",
          "text": [
            "---\n"
          ],
          "name": "stdout"
        },
        {
          "output_type": "display_data",
          "data": {
            "image/png": "[encoded data removed]",
            "text/plain": [
              "<Figure size 720x720 with 25 Axes>"
            ]
          },
          "metadata": {
            "tags": []
          }
        }
      ]
    },
    {
      "cell_type": "markdown",
      "metadata": {
        "id": "aJS7VPzy2ikc"
      },
      "source": [
        "# The model"
      ]
    },
    {
      "cell_type": "markdown",
      "metadata": {
        "id": "XFEW_1RzmFEd"
      },
      "source": [
        "## Make the model"
      ]
    },
    {
      "cell_type": "code",
      "metadata": {
        "id": "FtDWSWYUgcgx"
      },
      "source": [
        "# create the model\n",
        "\n",
        "model = Sequential()\n",
        "model.add(GaussianNoise(70, input_shape=(28, 28, 1)))\n",
        "\n",
        "model.add(Conv2D(filters=64, kernel_size=(3,3), activation='relu', padding='same', input_shape=(28, 28, 1)))\n",
        "model.add(BatchNormalization())\n",
        "model.add(MaxPooling2D(pool_size=(2,2), strides = 2))\n",
        "\n",
        "model.add(Conv2D(filters=128, kernel_size=(3,3), activation='relu', padding='same'))\n",
        "model.add(MaxPooling2D(pool_size=(2,2), strides = 2))\n",
        "\n",
        "model.add(Conv2D(filters=256, kernel_size=(3,3), activation='relu', padding='same'))\n",
        "model.add(BatchNormalization())\n",
        "model.add(MaxPooling2D(pool_size=(2,2), strides = 2))\n",
        "\n",
        "model.add(Conv2D(filters=512, kernel_size=(3,3), activation='relu'))\n",
        "# model.add(Conv2D(filters=512, kernel_size=(3,3), activation='relu'))\n",
        "\n",
        "model.add(Flatten())\n",
        "model.add(Dense(1024, activation='relu'))\n",
        "model.add(Dense(512, activation='relu'))\n",
        "model.add(Dense(512, activation='relu'))\n",
        "model.add(Dense(10, activation='softmax'))\n",
        "\n",
        "model.compile(optimizer=SGD(lr=0.01, momentum=0.9), loss='categorical_crossentropy', metrics=[Recall(), Precision()])"
      ],
      "execution_count": 9,
      "outputs": []
    },
    {
      "cell_type": "code",
      "metadata": {
        "id": "t6XJbhyNiQ-W",
        "outputId": "843abf38-aedd-4f92-9de3-578346b787fd",
        "colab": {
          "base_uri": "https://localhost:8080/",
          "height": 555
        }
      },
      "source": [
        "# train the model\n",
        "# model.fit(x, to_categorical(y), validation_split=0.15)\n",
        "model.fit(\n",
        "    generator.flow(x, to_categorical(y), batch_size = 128),\n",
        "    validation_data = generator.flow(x, to_categorical(y), batch_size = 128, subset = 'validation'),\n",
        "    steps_per_epoch = len(x) / 128,\n",
        "    epochs = 15\n",
        ")"
      ],
      "execution_count": 10,
      "outputs": [
        {
          "output_type": "stream",
          "text": [
            "Epoch 1/15\n",
            "547/546 [==============================] - 22s 40ms/step - loss: 0.5757 - recall: 0.7535 - precision: 0.8923 - val_loss: 0.5558 - val_recall: 0.7684 - val_precision: 0.8698\n",
            "Epoch 2/15\n",
            "547/546 [==============================] - 22s 41ms/step - loss: 0.2444 - recall: 0.9079 - precision: 0.9383 - val_loss: 0.4483 - val_recall: 0.8166 - val_precision: 0.8953\n",
            "Epoch 3/15\n",
            "547/546 [==============================] - 23s 41ms/step - loss: 0.1997 - recall: 0.9258 - precision: 0.9483 - val_loss: 1.0684 - val_recall: 0.6122 - val_precision: 0.6991\n",
            "Epoch 4/15\n",
            "547/546 [==============================] - 22s 40ms/step - loss: 0.1837 - recall: 0.9313 - precision: 0.9519 - val_loss: 0.5390 - val_recall: 0.7678 - val_precision: 0.8769\n",
            "Epoch 5/15\n",
            "547/546 [==============================] - 22s 40ms/step - loss: 0.1676 - recall: 0.9385 - precision: 0.9559 - val_loss: 0.6320 - val_recall: 0.7513 - val_precision: 0.8397\n",
            "Epoch 6/15\n",
            "547/546 [==============================] - 22s 40ms/step - loss: 0.1545 - recall: 0.9429 - precision: 0.9594 - val_loss: 0.5736 - val_recall: 0.7536 - val_precision: 0.8276\n",
            "Epoch 7/15\n",
            "547/546 [==============================] - 22s 40ms/step - loss: 0.1429 - recall: 0.9476 - precision: 0.9620 - val_loss: 0.3793 - val_recall: 0.8239 - val_precision: 0.9251\n",
            "Epoch 8/15\n",
            "547/546 [==============================] - 22s 40ms/step - loss: 0.1366 - recall: 0.9508 - precision: 0.9637 - val_loss: 0.4590 - val_recall: 0.7917 - val_precision: 0.8863\n",
            "Epoch 9/15\n",
            "547/546 [==============================] - 22s 40ms/step - loss: 0.1303 - recall: 0.9525 - precision: 0.9650 - val_loss: 0.4261 - val_recall: 0.8002 - val_precision: 0.9181\n",
            "Epoch 10/15\n",
            "547/546 [==============================] - 22s 40ms/step - loss: 0.1298 - recall: 0.9527 - precision: 0.9650 - val_loss: 0.6341 - val_recall: 0.7406 - val_precision: 0.8225\n",
            "Epoch 11/15\n",
            "547/546 [==============================] - 22s 40ms/step - loss: 0.1250 - recall: 0.9550 - precision: 0.9667 - val_loss: 0.2921 - val_recall: 0.8750 - val_precision: 0.9399\n",
            "Epoch 12/15\n",
            "547/546 [==============================] - 22s 41ms/step - loss: 0.1184 - recall: 0.9566 - precision: 0.9676 - val_loss: 0.3368 - val_recall: 0.8474 - val_precision: 0.9370\n",
            "Epoch 13/15\n",
            "547/546 [==============================] - 22s 40ms/step - loss: 0.1185 - recall: 0.9568 - precision: 0.9676 - val_loss: 0.4767 - val_recall: 0.8047 - val_precision: 0.8796\n",
            "Epoch 14/15\n",
            "547/546 [==============================] - 22s 41ms/step - loss: 0.1135 - recall: 0.9579 - precision: 0.9683 - val_loss: 0.3569 - val_recall: 0.8519 - val_precision: 0.9265\n",
            "Epoch 15/15\n",
            "547/546 [==============================] - 22s 40ms/step - loss: 0.1118 - recall: 0.9592 - precision: 0.9694 - val_loss: 0.3562 - val_recall: 0.8419 - val_precision: 0.9194\n"
          ],
          "name": "stdout"
        },
        {
          "output_type": "execute_result",
          "data": {
            "text/plain": [
              "<tensorflow.python.keras.callbacks.History at 0x7f83708ba518>"
            ]
          },
          "metadata": {
            "tags": []
          },
          "execution_count": 10
        }
      ]
    },
    {
      "cell_type": "markdown",
      "metadata": {
        "id": "avhD_RgJl9uX"
      },
      "source": [
        "## Save the model"
      ]
    },
    {
      "cell_type": "code",
      "metadata": {
        "id": "BrBUsInXiVxl",
        "outputId": "719be878-e4b8-4408-c300-3f986a6c32af",
        "colab": {
          "base_uri": "https://localhost:8080/",
          "height": 33
        }
      },
      "source": [
        "# save the model\n",
        "model.save('model.h5')\n",
        "zipfile.ZipFile('model.h5.zip', mode='w').write(\"model.h5\")\n",
        "print(os.path.getsize(\"/content/model.h5.zip\") / (1024*1024))\n",
        "files.download('model.h5.zip') "
      ],
      "execution_count": 11,
      "outputs": [
        {
          "output_type": "stream",
          "text": [
            "21.969194412231445\n"
          ],
          "name": "stdout"
        },
        {
          "output_type": "display_data",
          "data": {
            "application/javascript": [
              "\n",
              "    async function download(id, filename, size) {\n",
              "      if (!google.colab.kernel.accessAllowed) {\n",
              "        return;\n",
              "      }\n",
              "      const div = document.createElement('div');\n",
              "      const label = document.createElement('label');\n",
              "      label.textContent = `Downloading \"${filename}\": `;\n",
              "      div.appendChild(label);\n",
              "      const progress = document.createElement('progress');\n",
              "      progress.max = size;\n",
              "      div.appendChild(progress);\n",
              "      document.body.appendChild(div);\n",
              "\n",
              "      const buffers = [];\n",
              "      let downloaded = 0;\n",
              "\n",
              "      const channel = await google.colab.kernel.comms.open(id);\n",
              "      // Send a message to notify the kernel that we're ready.\n",
              "      channel.send({})\n",
              "\n",
              "      for await (const message of channel.messages) {\n",
              "        // Send a message to notify the kernel that we're ready.\n",
              "        channel.send({})\n",
              "        if (message.buffers) {\n",
              "          for (const buffer of message.buffers) {\n",
              "            buffers.push(buffer);\n",
              "            downloaded += buffer.byteLength;\n",
              "            progress.value = downloaded;\n",
              "          }\n",
              "        }\n",
              "      }\n",
              "      const blob = new Blob(buffers, {type: 'application/binary'});\n",
              "      const a = document.createElement('a');\n",
              "      a.href = window.URL.createObjectURL(blob);\n",
              "      a.download = filename;\n",
              "      div.appendChild(a);\n",
              "      a.click();\n",
              "      div.remove();\n",
              "    }\n",
              "  "
            ],
            "text/plain": [
              "<IPython.core.display.Javascript object>"
            ]
          },
          "metadata": {
            "tags": []
          }
        },
        {
          "output_type": "display_data",
          "data": {
            "application/javascript": [
              "download(\"download_04d8b65c-8dac-4f2c-b7d1-7f96f4ffcb92\", \"model.h5.zip\", 23036370)"
            ],
            "text/plain": [
              "<IPython.core.display.Javascript object>"
            ]
          },
          "metadata": {
            "tags": []
          }
        }
      ]
    },
    {
      "cell_type": "markdown",
      "metadata": {
        "id": "ZdzC1J6AlzXq"
      },
      "source": [
        "## Evaluation"
      ]
    },
    {
      "cell_type": "code",
      "metadata": {
        "id": "BTSuo3Wjk0jp"
      },
      "source": [
        "# make the prediction\n",
        "y_pred = model.predict(x)"
      ],
      "execution_count": 12,
      "outputs": []
    },
    {
      "cell_type": "code",
      "metadata": {
        "id": "3bgJC_aa5Wmr"
      },
      "source": [
        "# transform prediction to labels\n",
        "y_pred_labels = np.argmax(y_pred, axis=1).astype(np.uint8)"
      ],
      "execution_count": 13,
      "outputs": []
    },
    {
      "cell_type": "code",
      "metadata": {
        "id": "c4wH0P3ciaLQ",
        "outputId": "0e78ab84-ac53-411f-9f49-984de896d245",
        "colab": {
          "base_uri": "https://localhost:8080/",
          "height": 67
        }
      },
      "source": [
        "# evaluate performance of the model\n",
        "tf.print(f1_score(y_pred_labels, y, average='micro'))\n",
        "tf.print(f1_score(y_pred_labels, y, average='macro'))\n",
        "tf.print(f1_score(y_pred_labels, y, average='weighted'))"
      ],
      "execution_count": 14,
      "outputs": [
        {
          "output_type": "stream",
          "text": [
            "0.9517571428571429\n",
            "0.9498705274866577\n",
            "0.9536553252569412\n"
          ],
          "name": "stdout"
        }
      ]
    }
  ]
}